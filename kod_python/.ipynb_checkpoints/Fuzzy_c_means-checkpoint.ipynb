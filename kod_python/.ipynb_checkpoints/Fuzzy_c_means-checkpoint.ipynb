{
 "cells": [
  {
   "cell_type": "code",
   "execution_count": 7,
   "metadata": {
    "id": "-ZyckquoUB-z"
   },
   "outputs": [
    {
     "name": "stderr",
     "output_type": "stream",
     "text": [
      "System nie może odnaleźć określonej ścieżki.\n"
     ]
    }
   ],
   "source": [
    "#!pip install scikit-fuzzy > /dev/null 2>&1"
   ]
  },
  {
   "cell_type": "code",
   "execution_count": 8,
   "metadata": {
    "id": "LDNjN-vRTPP1"
   },
   "outputs": [],
   "source": [
    "import numpy as np\n",
    "import pandas as pd\n",
    "from sklearn import preprocessing\n",
    "import skfuzzy as fuzz\n",
    "import matplotlib.pyplot as plt\n",
    "from sklearn.metrics import davies_bouldin_score"
   ]
  },
  {
   "cell_type": "code",
   "execution_count": 3,
   "metadata": {
    "colab": {
     "base_uri": "https://localhost:8080/"
    },
    "id": "rbKk-IABW8E-",
    "outputId": "ca8d05f5-f562-43f5-ecca-6e29d0cd72b7"
   },
   "outputs": [],
   "source": [
    "#from google.colab import drive\n",
    "#drive.mount('/content/drive')"
   ]
  },
  {
   "cell_type": "markdown",
   "metadata": {
    "id": "zHeGqxrVrY80"
   },
   "source": [
    "Wczytywanie pliku csv z danymi."
   ]
  },
  {
   "cell_type": "code",
   "execution_count": 4,
   "metadata": {
    "id": "SvIZPKsLTazn"
   },
   "outputs": [],
   "source": [
    "path = 'Clean_data.csv'"
   ]
  },
  {
   "cell_type": "code",
   "execution_count": 5,
   "metadata": {
    "id": "vcKLrP03TbPr"
   },
   "outputs": [],
   "source": [
    "df = pd.read_csv(path)"
   ]
  },
  {
   "cell_type": "markdown",
   "metadata": {
    "id": "1hqOsTtJrfal"
   },
   "source": [
    "Statystyczny opis danych."
   ]
  },
  {
   "cell_type": "code",
   "execution_count": 6,
   "metadata": {
    "colab": {
     "base_uri": "https://localhost:8080/",
     "height": 619
    },
    "id": "I4ys_cLEL1T6",
    "outputId": "90d9b0a0-784b-406e-ee19-68dff91c4ff4"
   },
   "outputs": [
    {
     "data": {
      "text/html": [
       "<div>\n",
       "<style scoped>\n",
       "    .dataframe tbody tr th:only-of-type {\n",
       "        vertical-align: middle;\n",
       "    }\n",
       "\n",
       "    .dataframe tbody tr th {\n",
       "        vertical-align: top;\n",
       "    }\n",
       "\n",
       "    .dataframe thead th {\n",
       "        text-align: right;\n",
       "    }\n",
       "</style>\n",
       "<table border=\"1\" class=\"dataframe\">\n",
       "  <thead>\n",
       "    <tr style=\"text-align: right;\">\n",
       "      <th></th>\n",
       "      <th>Unnamed: 0</th>\n",
       "      <th>M1. Płeć respondenta:</th>\n",
       "      <th>M2. Ile ma Pan/Pani lat?</th>\n",
       "      <th>M3. Z ilu osób (razem z Panem/Panią) składa się Pana/Pani gospodarstwo domowe?</th>\n",
       "      <th>M3A. Ile z tych osób ma poniżej 6 lat?</th>\n",
       "      <th>M8. W jakim rodzaju budownictwa Pan/i mieszka?</th>\n",
       "      <th>M9A. Ile samochodów osobowych znajduje się w Pana/Pani gospodarstwie domowym?</th>\n",
       "      <th>M10A. Ile rowerów (nie uwzględniając rowerów dziecięcych) znajduje się w Pana/Pani gospodarstwie domowym?</th>\n",
       "      <th>M12. Proszę wybrać, który z przedziałów wartości dochodu netto (na rękę) na osobę najlepiej opisuje Pana/i gospodarstwo domowe.</th>\n",
       "      <th>M14. Proszę wybrać, jakie ma Pan/i ukończone wykształcenie</th>\n",
       "      <th>...</th>\n",
       "      <th>4.lekarz_transport publiczny</th>\n",
       "      <th>4.kościół_samochód (jako kierowca)</th>\n",
       "      <th>4.kościół_wyłącznie pieszo</th>\n",
       "      <th>4.kościół_rower</th>\n",
       "      <th>4.kościół_samochód (jako pasażer)</th>\n",
       "      <th>4.kościół_inne/więcej niż 1 środek transportu</th>\n",
       "      <th>4.kościół_transport publiczny</th>\n",
       "      <th>11.Indywidualny transport</th>\n",
       "      <th>11.Niedostosowana oferta przewoźników</th>\n",
       "      <th>11.Inne</th>\n",
       "    </tr>\n",
       "  </thead>\n",
       "  <tbody>\n",
       "    <tr>\n",
       "      <th>count</th>\n",
       "      <td>500.000000</td>\n",
       "      <td>500.000000</td>\n",
       "      <td>500.000000</td>\n",
       "      <td>495.000000</td>\n",
       "      <td>500.000000</td>\n",
       "      <td>500.000000</td>\n",
       "      <td>500.000000</td>\n",
       "      <td>500.000000</td>\n",
       "      <td>363.000000</td>\n",
       "      <td>499.000000</td>\n",
       "      <td>...</td>\n",
       "      <td>500.00000</td>\n",
       "      <td>500.000000</td>\n",
       "      <td>500.000000</td>\n",
       "      <td>500.00000</td>\n",
       "      <td>500.000000</td>\n",
       "      <td>500.000000</td>\n",
       "      <td>500.0</td>\n",
       "      <td>500.000000</td>\n",
       "      <td>500.000000</td>\n",
       "      <td>500.000000</td>\n",
       "    </tr>\n",
       "    <tr>\n",
       "      <th>mean</th>\n",
       "      <td>249.500000</td>\n",
       "      <td>0.618000</td>\n",
       "      <td>0.753109</td>\n",
       "      <td>1.933333</td>\n",
       "      <td>0.018000</td>\n",
       "      <td>0.066000</td>\n",
       "      <td>0.978000</td>\n",
       "      <td>1.466000</td>\n",
       "      <td>1.224931</td>\n",
       "      <td>3.380762</td>\n",
       "      <td>...</td>\n",
       "      <td>0.02200</td>\n",
       "      <td>0.144000</td>\n",
       "      <td>0.300000</td>\n",
       "      <td>0.02200</td>\n",
       "      <td>0.064000</td>\n",
       "      <td>0.004000</td>\n",
       "      <td>0.0</td>\n",
       "      <td>0.444000</td>\n",
       "      <td>0.250000</td>\n",
       "      <td>0.272000</td>\n",
       "    </tr>\n",
       "    <tr>\n",
       "      <th>std</th>\n",
       "      <td>144.481833</td>\n",
       "      <td>0.486363</td>\n",
       "      <td>0.069311</td>\n",
       "      <td>0.849863</td>\n",
       "      <td>0.133084</td>\n",
       "      <td>0.995805</td>\n",
       "      <td>0.828788</td>\n",
       "      <td>1.199885</td>\n",
       "      <td>0.496276</td>\n",
       "      <td>1.200448</td>\n",
       "      <td>...</td>\n",
       "      <td>0.14683</td>\n",
       "      <td>0.351441</td>\n",
       "      <td>0.458717</td>\n",
       "      <td>0.14683</td>\n",
       "      <td>0.244998</td>\n",
       "      <td>0.063182</td>\n",
       "      <td>0.0</td>\n",
       "      <td>0.497352</td>\n",
       "      <td>0.433446</td>\n",
       "      <td>0.445436</td>\n",
       "    </tr>\n",
       "    <tr>\n",
       "      <th>min</th>\n",
       "      <td>0.000000</td>\n",
       "      <td>0.000000</td>\n",
       "      <td>0.652174</td>\n",
       "      <td>1.000000</td>\n",
       "      <td>0.000000</td>\n",
       "      <td>-1.000000</td>\n",
       "      <td>0.000000</td>\n",
       "      <td>0.000000</td>\n",
       "      <td>0.250000</td>\n",
       "      <td>0.000000</td>\n",
       "      <td>...</td>\n",
       "      <td>0.00000</td>\n",
       "      <td>0.000000</td>\n",
       "      <td>0.000000</td>\n",
       "      <td>0.00000</td>\n",
       "      <td>0.000000</td>\n",
       "      <td>0.000000</td>\n",
       "      <td>0.0</td>\n",
       "      <td>0.000000</td>\n",
       "      <td>0.000000</td>\n",
       "      <td>0.000000</td>\n",
       "    </tr>\n",
       "    <tr>\n",
       "      <th>25%</th>\n",
       "      <td>124.750000</td>\n",
       "      <td>0.000000</td>\n",
       "      <td>0.695652</td>\n",
       "      <td>1.000000</td>\n",
       "      <td>0.000000</td>\n",
       "      <td>-1.000000</td>\n",
       "      <td>0.000000</td>\n",
       "      <td>0.000000</td>\n",
       "      <td>0.900000</td>\n",
       "      <td>3.000000</td>\n",
       "      <td>...</td>\n",
       "      <td>0.00000</td>\n",
       "      <td>0.000000</td>\n",
       "      <td>0.000000</td>\n",
       "      <td>0.00000</td>\n",
       "      <td>0.000000</td>\n",
       "      <td>0.000000</td>\n",
       "      <td>0.0</td>\n",
       "      <td>0.000000</td>\n",
       "      <td>0.000000</td>\n",
       "      <td>0.000000</td>\n",
       "    </tr>\n",
       "    <tr>\n",
       "      <th>50%</th>\n",
       "      <td>249.500000</td>\n",
       "      <td>1.000000</td>\n",
       "      <td>0.739130</td>\n",
       "      <td>2.000000</td>\n",
       "      <td>0.000000</td>\n",
       "      <td>1.000000</td>\n",
       "      <td>1.000000</td>\n",
       "      <td>1.000000</td>\n",
       "      <td>0.900000</td>\n",
       "      <td>3.000000</td>\n",
       "      <td>...</td>\n",
       "      <td>0.00000</td>\n",
       "      <td>0.000000</td>\n",
       "      <td>0.000000</td>\n",
       "      <td>0.00000</td>\n",
       "      <td>0.000000</td>\n",
       "      <td>0.000000</td>\n",
       "      <td>0.0</td>\n",
       "      <td>0.000000</td>\n",
       "      <td>0.000000</td>\n",
       "      <td>0.000000</td>\n",
       "    </tr>\n",
       "    <tr>\n",
       "      <th>75%</th>\n",
       "      <td>374.250000</td>\n",
       "      <td>1.000000</td>\n",
       "      <td>0.796196</td>\n",
       "      <td>2.000000</td>\n",
       "      <td>0.000000</td>\n",
       "      <td>1.000000</td>\n",
       "      <td>1.000000</td>\n",
       "      <td>2.000000</td>\n",
       "      <td>1.500000</td>\n",
       "      <td>5.000000</td>\n",
       "      <td>...</td>\n",
       "      <td>0.00000</td>\n",
       "      <td>0.000000</td>\n",
       "      <td>1.000000</td>\n",
       "      <td>0.00000</td>\n",
       "      <td>0.000000</td>\n",
       "      <td>0.000000</td>\n",
       "      <td>0.0</td>\n",
       "      <td>1.000000</td>\n",
       "      <td>0.250000</td>\n",
       "      <td>1.000000</td>\n",
       "    </tr>\n",
       "    <tr>\n",
       "      <th>max</th>\n",
       "      <td>499.000000</td>\n",
       "      <td>1.000000</td>\n",
       "      <td>1.000000</td>\n",
       "      <td>4.000000</td>\n",
       "      <td>1.000000</td>\n",
       "      <td>1.000000</td>\n",
       "      <td>3.000000</td>\n",
       "      <td>4.000000</td>\n",
       "      <td>2.250000</td>\n",
       "      <td>5.000000</td>\n",
       "      <td>...</td>\n",
       "      <td>1.00000</td>\n",
       "      <td>1.000000</td>\n",
       "      <td>1.000000</td>\n",
       "      <td>1.00000</td>\n",
       "      <td>1.000000</td>\n",
       "      <td>1.000000</td>\n",
       "      <td>0.0</td>\n",
       "      <td>1.000000</td>\n",
       "      <td>1.000000</td>\n",
       "      <td>1.000000</td>\n",
       "    </tr>\n",
       "  </tbody>\n",
       "</table>\n",
       "<p>8 rows × 109 columns</p>\n",
       "</div>"
      ],
      "text/plain": [
       "       Unnamed: 0  M1. Płeć respondenta:  M2. Ile ma Pan/Pani lat?  \\\n",
       "count  500.000000             500.000000                500.000000   \n",
       "mean   249.500000               0.618000                  0.753109   \n",
       "std    144.481833               0.486363                  0.069311   \n",
       "min      0.000000               0.000000                  0.652174   \n",
       "25%    124.750000               0.000000                  0.695652   \n",
       "50%    249.500000               1.000000                  0.739130   \n",
       "75%    374.250000               1.000000                  0.796196   \n",
       "max    499.000000               1.000000                  1.000000   \n",
       "\n",
       "       M3. Z ilu osób (razem z Panem/Panią) składa się Pana/Pani gospodarstwo domowe?  \\\n",
       "count                                         495.000000                                \n",
       "mean                                            1.933333                                \n",
       "std                                             0.849863                                \n",
       "min                                             1.000000                                \n",
       "25%                                             1.000000                                \n",
       "50%                                             2.000000                                \n",
       "75%                                             2.000000                                \n",
       "max                                             4.000000                                \n",
       "\n",
       "       M3A. Ile z tych osób ma poniżej 6 lat?  \\\n",
       "count                              500.000000   \n",
       "mean                                 0.018000   \n",
       "std                                  0.133084   \n",
       "min                                  0.000000   \n",
       "25%                                  0.000000   \n",
       "50%                                  0.000000   \n",
       "75%                                  0.000000   \n",
       "max                                  1.000000   \n",
       "\n",
       "       M8. W jakim rodzaju budownictwa Pan/i mieszka?  \\\n",
       "count                                      500.000000   \n",
       "mean                                         0.066000   \n",
       "std                                          0.995805   \n",
       "min                                         -1.000000   \n",
       "25%                                         -1.000000   \n",
       "50%                                          1.000000   \n",
       "75%                                          1.000000   \n",
       "max                                          1.000000   \n",
       "\n",
       "       M9A. Ile samochodów osobowych znajduje się w Pana/Pani gospodarstwie domowym?  \\\n",
       "count                                         500.000000                               \n",
       "mean                                            0.978000                               \n",
       "std                                             0.828788                               \n",
       "min                                             0.000000                               \n",
       "25%                                             0.000000                               \n",
       "50%                                             1.000000                               \n",
       "75%                                             1.000000                               \n",
       "max                                             3.000000                               \n",
       "\n",
       "       M10A. Ile rowerów (nie uwzględniając rowerów dziecięcych) znajduje się w Pana/Pani gospodarstwie domowym?  \\\n",
       "count                                         500.000000                                                           \n",
       "mean                                            1.466000                                                           \n",
       "std                                             1.199885                                                           \n",
       "min                                             0.000000                                                           \n",
       "25%                                             0.000000                                                           \n",
       "50%                                             1.000000                                                           \n",
       "75%                                             2.000000                                                           \n",
       "max                                             4.000000                                                           \n",
       "\n",
       "       M12. Proszę wybrać, który z przedziałów wartości dochodu netto (na rękę) na osobę najlepiej opisuje Pana/i gospodarstwo domowe.  \\\n",
       "count                                         363.000000                                                                                 \n",
       "mean                                            1.224931                                                                                 \n",
       "std                                             0.496276                                                                                 \n",
       "min                                             0.250000                                                                                 \n",
       "25%                                             0.900000                                                                                 \n",
       "50%                                             0.900000                                                                                 \n",
       "75%                                             1.500000                                                                                 \n",
       "max                                             2.250000                                                                                 \n",
       "\n",
       "       M14. Proszę wybrać, jakie ma Pan/i ukończone wykształcenie  ...  \\\n",
       "count                                         499.000000           ...   \n",
       "mean                                            3.380762           ...   \n",
       "std                                             1.200448           ...   \n",
       "min                                             0.000000           ...   \n",
       "25%                                             3.000000           ...   \n",
       "50%                                             3.000000           ...   \n",
       "75%                                             5.000000           ...   \n",
       "max                                             5.000000           ...   \n",
       "\n",
       "       4.lekarz_transport publiczny  4.kościół_samochód (jako kierowca)  \\\n",
       "count                     500.00000                          500.000000   \n",
       "mean                        0.02200                            0.144000   \n",
       "std                         0.14683                            0.351441   \n",
       "min                         0.00000                            0.000000   \n",
       "25%                         0.00000                            0.000000   \n",
       "50%                         0.00000                            0.000000   \n",
       "75%                         0.00000                            0.000000   \n",
       "max                         1.00000                            1.000000   \n",
       "\n",
       "       4.kościół_wyłącznie pieszo  4.kościół_rower  \\\n",
       "count                  500.000000        500.00000   \n",
       "mean                     0.300000          0.02200   \n",
       "std                      0.458717          0.14683   \n",
       "min                      0.000000          0.00000   \n",
       "25%                      0.000000          0.00000   \n",
       "50%                      0.000000          0.00000   \n",
       "75%                      1.000000          0.00000   \n",
       "max                      1.000000          1.00000   \n",
       "\n",
       "       4.kościół_samochód (jako pasażer)  \\\n",
       "count                         500.000000   \n",
       "mean                            0.064000   \n",
       "std                             0.244998   \n",
       "min                             0.000000   \n",
       "25%                             0.000000   \n",
       "50%                             0.000000   \n",
       "75%                             0.000000   \n",
       "max                             1.000000   \n",
       "\n",
       "       4.kościół_inne/więcej niż 1 środek transportu  \\\n",
       "count                                     500.000000   \n",
       "mean                                        0.004000   \n",
       "std                                         0.063182   \n",
       "min                                         0.000000   \n",
       "25%                                         0.000000   \n",
       "50%                                         0.000000   \n",
       "75%                                         0.000000   \n",
       "max                                         1.000000   \n",
       "\n",
       "       4.kościół_transport publiczny  11.Indywidualny transport  \\\n",
       "count                          500.0                 500.000000   \n",
       "mean                             0.0                   0.444000   \n",
       "std                              0.0                   0.497352   \n",
       "min                              0.0                   0.000000   \n",
       "25%                              0.0                   0.000000   \n",
       "50%                              0.0                   0.000000   \n",
       "75%                              0.0                   1.000000   \n",
       "max                              0.0                   1.000000   \n",
       "\n",
       "       11.Niedostosowana oferta przewoźników     11.Inne  \n",
       "count                             500.000000  500.000000  \n",
       "mean                                0.250000    0.272000  \n",
       "std                                 0.433446    0.445436  \n",
       "min                                 0.000000    0.000000  \n",
       "25%                                 0.000000    0.000000  \n",
       "50%                                 0.000000    0.000000  \n",
       "75%                                 0.250000    1.000000  \n",
       "max                                 1.000000    1.000000  \n",
       "\n",
       "[8 rows x 109 columns]"
      ]
     },
     "execution_count": 6,
     "metadata": {},
     "output_type": "execute_result"
    }
   ],
   "source": [
    "df.describe()"
   ]
  },
  {
   "cell_type": "markdown",
   "metadata": {
    "id": "ea7PUvsOrh8s"
   },
   "source": [
    "Zamiana dataframe na array."
   ]
  },
  {
   "cell_type": "code",
   "execution_count": null,
   "metadata": {
    "id": "H9QrPjbJifTj"
   },
   "outputs": [],
   "source": [
    "data = df.values"
   ]
  },
  {
   "cell_type": "markdown",
   "metadata": {
    "id": "Op6pc1nlrrNV"
   },
   "source": [
    "Zamiana pustych wartości na wartość 0."
   ]
  },
  {
   "cell_type": "code",
   "execution_count": null,
   "metadata": {
    "id": "FKs7QeAw8IQv"
   },
   "outputs": [],
   "source": [
    "data[np.isnan(data)] = 0"
   ]
  },
  {
   "cell_type": "markdown",
   "metadata": {
    "id": "0J1Xlkbnrt0s"
   },
   "source": [
    "Normalizacja danych."
   ]
  },
  {
   "cell_type": "code",
   "execution_count": null,
   "metadata": {
    "id": "7Mdwrz2AyomE"
   },
   "outputs": [],
   "source": [
    "data_norm = (data - data.min()) / (data.max() - data.min())"
   ]
  },
  {
   "cell_type": "markdown",
   "metadata": {
    "id": "hwZ6MAOMJK3N"
   },
   "source": [
    "**`Indeks Davisa-Bouldina`**"
   ]
  },
  {
   "cell_type": "markdown",
   "metadata": {
    "id": "gU-YoFBjKa1l"
   },
   "source": [
    "Indeks Davisa-Bouldina jest miarą używaną do oceny jakości klasteryzacji w analizie skupień. Im niższa wartość indeksu, tym lepsza jakość klasteryzacji. "
   ]
  },
  {
   "cell_type": "code",
   "execution_count": null,
   "metadata": {
    "id": "tRNZ5pAXIJb1"
   },
   "outputs": [],
   "source": [
    "min_clusters = 2\n",
    "max_clusters = 10\n",
    "\n",
    "davies_bouldin_scores = []\n",
    "\n",
    "for n_clusters in range(min_clusters, max_clusters+1):\n",
    "    cntr, u, u0, d, jm, p, fpc = fuzz.cluster.cmeans(data_norm.T, n_clusters, 2, error=0.005, maxiter=1000, init=None)\n",
    "    cluster_membership = np.argmax(u, axis=0)\n",
    "    db_score = davies_bouldin_score(data, cluster_membership)\n",
    "    davies_bouldin_scores.append(db_score)"
   ]
  },
  {
   "cell_type": "code",
   "execution_count": null,
   "metadata": {
    "colab": {
     "base_uri": "https://localhost:8080/",
     "height": 466
    },
    "id": "p3Aqty8tIq4r",
    "outputId": "abc154cb-7bcd-4167-98bb-c9108e023011"
   },
   "outputs": [
    {
     "data": {
      "text/plain": [
       "Text(0, 0.5, 'Indeks Davisa-Bouldina')"
      ]
     },
     "execution_count": 254,
     "metadata": {},
     "output_type": "execute_result"
    },
    {
     "data": {
      "image/png": "[encoded data removed]",
      "text/plain": [
       "<Figure size 640x480 with 1 Axes>"
      ]
     },
     "metadata": {},
     "output_type": "display_data"
    }
   ],
   "source": [
    "clusters_range = range(min_clusters, max_clusters+1)\n",
    "plt.plot(clusters_range, davies_bouldin_scores, marker='o')\n",
    "plt.xlabel('Liczba klastrów')\n",
    "plt.ylabel(\"Indeks Davisa-Bouldina\")"
   ]
  },
  {
   "cell_type": "markdown",
   "metadata": {
    "id": "_J8T6yy1JXHl"
   },
   "source": [
    "Niestety z powyższego wykresu nie jesteśmy w stanie odczytać wiele, ponieważ powstała prawie prosta linia. Widzimy, że lekko odbiega od prostej dla liczby klastrów równej 3. Sprawdźmy dodatkowo Fuzzy partition coefficient."
   ]
  },
  {
   "cell_type": "markdown",
   "metadata": {
    "id": "mI_jblA_LEVn"
   },
   "source": [
    "**Fuzzy partition coefficient**"
   ]
  },
  {
   "cell_type": "markdown",
   "metadata": {
    "id": "dAPMBiILQypR"
   },
   "source": [
    "Fuzzy Partition Coefficient (FPC) jest miarą używaną do oceny jakości klasteryzacji w algorytmach klasteryzacji rozmytej. FPC mierzy, jak dobrze dane są przypisane do klastrów na podstawie przynależności rozmytej. "
   ]
  },
  {
   "cell_type": "code",
   "execution_count": null,
   "metadata": {
    "id": "tpvxUE3GK5b_"
   },
   "outputs": [],
   "source": [
    "fpcs = []\n",
    "\n",
    "for ncenters in range(2, 11):\n",
    "    cntr, u, u0, d, jm, p, fpc = fuzz.cluster.cmeans(data_norm.T, ncenters, 2, error=0.005, maxiter=1000, init=None)\n",
    "    fpcs.append(fpc)"
   ]
  },
  {
   "cell_type": "code",
   "execution_count": null,
   "metadata": {
    "colab": {
     "base_uri": "https://localhost:8080/",
     "height": 466
    },
    "id": "YmLQaOXeRAdG",
    "outputId": "4cc0a2b3-04f1-40d3-bb91-0a3cef69624f"
   },
   "outputs": [
    {
     "data": {
      "text/plain": [
       "Text(0, 0.5, 'Fuzzy partition coefficient')"
      ]
     },
     "execution_count": 256,
     "metadata": {},
     "output_type": "execute_result"
    },
    {
     "data": {
      "image/png": "[encoded data removed]",
      "text/plain": [
       "<Figure size 640x480 with 1 Axes>"
      ]
     },
     "metadata": {},
     "output_type": "display_data"
    }
   ],
   "source": [
    "fig1, ax1 = plt.subplots()\n",
    "ax1.plot(np.r_[2:11], fpcs)\n",
    "ax1.set_xlabel(\"Liczba klastrów\")\n",
    "ax1.set_ylabel(\"Fuzzy partition coefficient\")"
   ]
  },
  {
   "cell_type": "markdown",
   "metadata": {
    "id": "bveX8YmRLOOM"
   },
   "source": [
    "Wybieramy na podstawie powyższego wykresu oraz indeksu Davisa-Bouldina optymalną liczbę klastrów równą 3."
   ]
  },
  {
   "cell_type": "code",
   "execution_count": null,
   "metadata": {
    "id": "AzR_M8A6Ldkn"
   },
   "outputs": [],
   "source": [
    "n_clusters = 3\n",
    "m = 2"
   ]
  },
  {
   "cell_type": "code",
   "execution_count": null,
   "metadata": {
    "id": "AucE2xseLdko"
   },
   "outputs": [],
   "source": [
    "cntr, u, _, _, _, _, _ = fuzz.cluster.cmeans(data_norm.T, n_clusters, m, error=0.005, maxiter=1000, init=None, metric='euclidean', seed = 123)"
   ]
  },
  {
   "cell_type": "markdown",
   "metadata": {
    "id": "dId-8kSytm3a"
   },
   "source": [
    "Wyświetlamy wartości funkcji przynależności do klastrów dla każdego elementu."
   ]
  },
  {
   "cell_type": "code",
   "execution_count": null,
   "metadata": {
    "colab": {
     "base_uri": "https://localhost:8080/",
     "height": 424
    },
    "id": "x-jrmG9fLdkp",
    "outputId": "174cd3bb-87d5-4259-c6f5-891951dd9b1b"
   },
   "outputs": [
    {
     "data": {
      "text/html": [
       "\n",
       "  <div id=\"df-9d2c655f-0967-442a-a0eb-f3d4db9625de\">\n",
       "    <div class=\"colab-df-container\">\n",
       "      <div>\n",
       "<style scoped>\n",
       "    .dataframe tbody tr th:only-of-type {\n",
       "        vertical-align: middle;\n",
       "    }\n",
       "\n",
       "    .dataframe tbody tr th {\n",
       "        vertical-align: top;\n",
       "    }\n",
       "\n",
       "    .dataframe thead th {\n",
       "        text-align: right;\n",
       "    }\n",
       "</style>\n",
       "<table border=\"1\" class=\"dataframe\">\n",
       "  <thead>\n",
       "    <tr style=\"text-align: right;\">\n",
       "      <th></th>\n",
       "      <th>0</th>\n",
       "      <th>1</th>\n",
       "      <th>2</th>\n",
       "    </tr>\n",
       "  </thead>\n",
       "  <tbody>\n",
       "    <tr>\n",
       "      <th>0</th>\n",
       "      <td>0.083886</td>\n",
       "      <td>0.886881</td>\n",
       "      <td>0.029232</td>\n",
       "    </tr>\n",
       "    <tr>\n",
       "      <th>1</th>\n",
       "      <td>0.082667</td>\n",
       "      <td>0.888616</td>\n",
       "      <td>0.028716</td>\n",
       "    </tr>\n",
       "    <tr>\n",
       "      <th>2</th>\n",
       "      <td>0.081354</td>\n",
       "      <td>0.890485</td>\n",
       "      <td>0.028161</td>\n",
       "    </tr>\n",
       "    <tr>\n",
       "      <th>3</th>\n",
       "      <td>0.079938</td>\n",
       "      <td>0.892481</td>\n",
       "      <td>0.027581</td>\n",
       "    </tr>\n",
       "    <tr>\n",
       "      <th>4</th>\n",
       "      <td>0.078618</td>\n",
       "      <td>0.894347</td>\n",
       "      <td>0.027036</td>\n",
       "    </tr>\n",
       "    <tr>\n",
       "      <th>...</th>\n",
       "      <td>...</td>\n",
       "      <td>...</td>\n",
       "      <td>...</td>\n",
       "    </tr>\n",
       "    <tr>\n",
       "      <th>495</th>\n",
       "      <td>0.078303</td>\n",
       "      <td>0.026942</td>\n",
       "      <td>0.894756</td>\n",
       "    </tr>\n",
       "    <tr>\n",
       "      <th>496</th>\n",
       "      <td>0.079446</td>\n",
       "      <td>0.027422</td>\n",
       "      <td>0.893132</td>\n",
       "    </tr>\n",
       "    <tr>\n",
       "      <th>497</th>\n",
       "      <td>0.081021</td>\n",
       "      <td>0.028065</td>\n",
       "      <td>0.890914</td>\n",
       "    </tr>\n",
       "    <tr>\n",
       "      <th>498</th>\n",
       "      <td>0.082076</td>\n",
       "      <td>0.028525</td>\n",
       "      <td>0.889400</td>\n",
       "    </tr>\n",
       "    <tr>\n",
       "      <th>499</th>\n",
       "      <td>0.083685</td>\n",
       "      <td>0.029187</td>\n",
       "      <td>0.887128</td>\n",
       "    </tr>\n",
       "  </tbody>\n",
       "</table>\n",
       "<p>500 rows × 3 columns</p>\n",
       "</div>\n",
       "      <button class=\"colab-df-convert\" onclick=\"convertToInteractive('df-9d2c655f-0967-442a-a0eb-f3d4db9625de')\"\n",
       "              title=\"Convert this dataframe to an interactive table.\"\n",
       "              style=\"display:none;\">\n",
       "        \n",
       "  <svg xmlns=\"http://www.w3.org/2000/svg\" height=\"24px\"viewBox=\"0 0 24 24\"\n",
       "       width=\"24px\">\n",
       "    <path d=\"M0 0h24v24H0V0z\" fill=\"none\"/>\n",
       "    <path d=\"M18.56 5.44l.94 2.06.94-2.06 2.06-.94-2.06-.94-.94-2.06-.94 2.06-2.06.94zm-11 1L8.5 8.5l.94-2.06 2.06-.94-2.06-.94L8.5 2.5l-.94 2.06-2.06.94zm10 10l.94 2.06.94-2.06 2.06-.94-2.06-.94-.94-2.06-.94 2.06-2.06.94z\"/><path d=\"M17.41 7.96l-1.37-1.37c-.4-.4-.92-.59-1.43-.59-.52 0-1.04.2-1.43.59L10.3 9.45l-7.72 7.72c-.78.78-.78 2.05 0 2.83L4 21.41c.39.39.9.59 1.41.59.51 0 1.02-.2 1.41-.59l7.78-7.78 2.81-2.81c.8-.78.8-2.07 0-2.86zM5.41 20L4 18.59l7.72-7.72 1.47 1.35L5.41 20z\"/>\n",
       "  </svg>\n",
       "      </button>\n",
       "      \n",
       "  <style>\n",
       "    .colab-df-container {\n",
       "      display:flex;\n",
       "      flex-wrap:wrap;\n",
       "      gap: 12px;\n",
       "    }\n",
       "\n",
       "    .colab-df-convert {\n",
       "      background-color: #E8F0FE;\n",
       "      border: none;\n",
       "      border-radius: 50%;\n",
       "      cursor: pointer;\n",
       "      display: none;\n",
       "      fill: #1967D2;\n",
       "      height: 32px;\n",
       "      padding: 0 0 0 0;\n",
       "      width: 32px;\n",
       "    }\n",
       "\n",
       "    .colab-df-convert:hover {\n",
       "      background-color: #E2EBFA;\n",
       "      box-shadow: 0px 1px 2px rgba(60, 64, 67, 0.3), 0px 1px 3px 1px rgba(60, 64, 67, 0.15);\n",
       "      fill: #174EA6;\n",
       "    }\n",
       "\n",
       "    [theme=dark] .colab-df-convert {\n",
       "      background-color: #3B4455;\n",
       "      fill: #D2E3FC;\n",
       "    }\n",
       "\n",
       "    [theme=dark] .colab-df-convert:hover {\n",
       "      background-color: #434B5C;\n",
       "      box-shadow: 0px 1px 3px 1px rgba(0, 0, 0, 0.15);\n",
       "      filter: drop-shadow(0px 1px 2px rgba(0, 0, 0, 0.3));\n",
       "      fill: #FFFFFF;\n",
       "    }\n",
       "  </style>\n",
       "\n",
       "      <script>\n",
       "        const buttonEl =\n",
       "          document.querySelector('#df-9d2c655f-0967-442a-a0eb-f3d4db9625de button.colab-df-convert');\n",
       "        buttonEl.style.display =\n",
       "          google.colab.kernel.accessAllowed ? 'block' : 'none';\n",
       "\n",
       "        async function convertToInteractive(key) {\n",
       "          const element = document.querySelector('#df-9d2c655f-0967-442a-a0eb-f3d4db9625de');\n",
       "          const dataTable =\n",
       "            await google.colab.kernel.invokeFunction('convertToInteractive',\n",
       "                                                     [key], {});\n",
       "          if (!dataTable) return;\n",
       "\n",
       "          const docLinkHtml = 'Like what you see? Visit the ' +\n",
       "            '<a target=\"_blank\" href=https://colab.research.google.com/notebooks/data_table.ipynb>data table notebook</a>'\n",
       "            + ' to learn more about interactive tables.';\n",
       "          element.innerHTML = '';\n",
       "          dataTable['output_type'] = 'display_data';\n",
       "          await google.colab.output.renderOutput(dataTable, element);\n",
       "          const docLink = document.createElement('div');\n",
       "          docLink.innerHTML = docLinkHtml;\n",
       "          element.appendChild(docLink);\n",
       "        }\n",
       "      </script>\n",
       "    </div>\n",
       "  </div>\n",
       "  "
      ],
      "text/plain": [
       "            0         1         2\n",
       "0    0.083886  0.886881  0.029232\n",
       "1    0.082667  0.888616  0.028716\n",
       "2    0.081354  0.890485  0.028161\n",
       "3    0.079938  0.892481  0.027581\n",
       "4    0.078618  0.894347  0.027036\n",
       "..        ...       ...       ...\n",
       "495  0.078303  0.026942  0.894756\n",
       "496  0.079446  0.027422  0.893132\n",
       "497  0.081021  0.028065  0.890914\n",
       "498  0.082076  0.028525  0.889400\n",
       "499  0.083685  0.029187  0.887128\n",
       "\n",
       "[500 rows x 3 columns]"
      ]
     },
     "execution_count": 259,
     "metadata": {},
     "output_type": "execute_result"
    }
   ],
   "source": [
    "cluster_membership = pd.DataFrame(u.T)\n",
    "cluster_membership"
   ]
  },
  {
   "cell_type": "markdown",
   "metadata": {
    "id": "cCvrYvLVtxVD"
   },
   "source": [
    "Dołączamy powyższe kolumny do dataframe."
   ]
  },
  {
   "cell_type": "code",
   "execution_count": null,
   "metadata": {
    "id": "aVtYA0kTLdkq"
   },
   "outputs": [],
   "source": [
    "df = pd.concat([df, cluster_membership], axis=1)\n",
    "df.columns = list(df.columns[:-n_clusters]) + ['Klaster {}'.format(i) for i in range(0, n_clusters)]"
   ]
  },
  {
   "cell_type": "code",
   "execution_count": null,
   "metadata": {
    "colab": {
     "base_uri": "https://localhost:8080/",
     "height": 713
    },
    "id": "K7xOUdcXLdkq",
    "outputId": "af8b75ba-7f5f-4dd9-e025-d188a88a62ff"
   },
   "outputs": [
    {
     "data": {
      "text/html": [
       "\n",
       "  <div id=\"df-67ef5248-92cc-4720-b7c0-defe3103b8da\">\n",
       "    <div class=\"colab-df-container\">\n",
       "      <div>\n",
       "<style scoped>\n",
       "    .dataframe tbody tr th:only-of-type {\n",
       "        vertical-align: middle;\n",
       "    }\n",
       "\n",
       "    .dataframe tbody tr th {\n",
       "        vertical-align: top;\n",
       "    }\n",
       "\n",
       "    .dataframe thead th {\n",
       "        text-align: right;\n",
       "    }\n",
       "</style>\n",
       "<table border=\"1\" class=\"dataframe\">\n",
       "  <thead>\n",
       "    <tr style=\"text-align: right;\">\n",
       "      <th></th>\n",
       "      <th>Unnamed: 0</th>\n",
       "      <th>M1. Płeć respondenta:</th>\n",
       "      <th>M2. Ile ma Pan/Pani lat?</th>\n",
       "      <th>M3. Z ilu osób (razem z Panem/Panią) składa się Pana/Pani gospodarstwo domowe?</th>\n",
       "      <th>M3A. Ile z tych osób ma poniżej 6 lat?</th>\n",
       "      <th>M8. W jakim rodzaju budownictwa Pan/i mieszka?</th>\n",
       "      <th>M9A. Ile samochodów osobowych znajduje się w Pana/Pani gospodarstwie domowym?</th>\n",
       "      <th>M10A. Ile rowerów (nie uwzględniając rowerów dziecięcych) znajduje się w Pana/Pani gospodarstwie domowym?</th>\n",
       "      <th>M12. Proszę wybrać, który z przedziałów wartości dochodu netto (na rękę) na osobę najlepiej opisuje Pana/i gospodarstwo domowe.</th>\n",
       "      <th>M14. Proszę wybrać, jakie ma Pan/i ukończone wykształcenie</th>\n",
       "      <th>...</th>\n",
       "      <th>4.kościół_rower</th>\n",
       "      <th>4.kościół_samochód (jako pasażer)</th>\n",
       "      <th>4.kościół_inne/więcej niż 1 środek transportu</th>\n",
       "      <th>4.kościół_transport publiczny</th>\n",
       "      <th>11.Indywidualny transport</th>\n",
       "      <th>11.Niedostosowana oferta przewoźników</th>\n",
       "      <th>11.Inne</th>\n",
       "      <th>Klaster 0</th>\n",
       "      <th>Klaster 1</th>\n",
       "      <th>Klaster 2</th>\n",
       "    </tr>\n",
       "  </thead>\n",
       "  <tbody>\n",
       "    <tr>\n",
       "      <th>0</th>\n",
       "      <td>0</td>\n",
       "      <td>1</td>\n",
       "      <td>0.815217</td>\n",
       "      <td>2.0</td>\n",
       "      <td>0</td>\n",
       "      <td>1</td>\n",
       "      <td>1</td>\n",
       "      <td>2</td>\n",
       "      <td>NaN</td>\n",
       "      <td>5.0</td>\n",
       "      <td>...</td>\n",
       "      <td>0.0</td>\n",
       "      <td>1.0</td>\n",
       "      <td>0.0</td>\n",
       "      <td>0.0</td>\n",
       "      <td>0.0</td>\n",
       "      <td>1.0</td>\n",
       "      <td>0.0</td>\n",
       "      <td>0.083886</td>\n",
       "      <td>0.886881</td>\n",
       "      <td>0.029232</td>\n",
       "    </tr>\n",
       "    <tr>\n",
       "      <th>1</th>\n",
       "      <td>1</td>\n",
       "      <td>0</td>\n",
       "      <td>0.695652</td>\n",
       "      <td>3.0</td>\n",
       "      <td>0</td>\n",
       "      <td>-1</td>\n",
       "      <td>3</td>\n",
       "      <td>0</td>\n",
       "      <td>1.50</td>\n",
       "      <td>3.0</td>\n",
       "      <td>...</td>\n",
       "      <td>0.0</td>\n",
       "      <td>0.0</td>\n",
       "      <td>0.0</td>\n",
       "      <td>0.0</td>\n",
       "      <td>0.0</td>\n",
       "      <td>1.0</td>\n",
       "      <td>0.0</td>\n",
       "      <td>0.082667</td>\n",
       "      <td>0.888616</td>\n",
       "      <td>0.028716</td>\n",
       "    </tr>\n",
       "    <tr>\n",
       "      <th>2</th>\n",
       "      <td>2</td>\n",
       "      <td>1</td>\n",
       "      <td>0.782609</td>\n",
       "      <td>2.0</td>\n",
       "      <td>0</td>\n",
       "      <td>1</td>\n",
       "      <td>1</td>\n",
       "      <td>2</td>\n",
       "      <td>1.50</td>\n",
       "      <td>5.0</td>\n",
       "      <td>...</td>\n",
       "      <td>0.0</td>\n",
       "      <td>0.0</td>\n",
       "      <td>0.0</td>\n",
       "      <td>0.0</td>\n",
       "      <td>0.0</td>\n",
       "      <td>0.0</td>\n",
       "      <td>1.0</td>\n",
       "      <td>0.081354</td>\n",
       "      <td>0.890485</td>\n",
       "      <td>0.028161</td>\n",
       "    </tr>\n",
       "    <tr>\n",
       "      <th>3</th>\n",
       "      <td>3</td>\n",
       "      <td>0</td>\n",
       "      <td>0.923913</td>\n",
       "      <td>1.0</td>\n",
       "      <td>0</td>\n",
       "      <td>1</td>\n",
       "      <td>0</td>\n",
       "      <td>1</td>\n",
       "      <td>1.50</td>\n",
       "      <td>5.0</td>\n",
       "      <td>...</td>\n",
       "      <td>0.0</td>\n",
       "      <td>1.0</td>\n",
       "      <td>0.0</td>\n",
       "      <td>0.0</td>\n",
       "      <td>1.0</td>\n",
       "      <td>0.0</td>\n",
       "      <td>0.0</td>\n",
       "      <td>0.079938</td>\n",
       "      <td>0.892481</td>\n",
       "      <td>0.027581</td>\n",
       "    </tr>\n",
       "    <tr>\n",
       "      <th>4</th>\n",
       "      <td>4</td>\n",
       "      <td>0</td>\n",
       "      <td>0.978261</td>\n",
       "      <td>1.0</td>\n",
       "      <td>0</td>\n",
       "      <td>-1</td>\n",
       "      <td>1</td>\n",
       "      <td>0</td>\n",
       "      <td>2.25</td>\n",
       "      <td>5.0</td>\n",
       "      <td>...</td>\n",
       "      <td>0.0</td>\n",
       "      <td>0.0</td>\n",
       "      <td>0.0</td>\n",
       "      <td>0.0</td>\n",
       "      <td>1.0</td>\n",
       "      <td>0.0</td>\n",
       "      <td>0.0</td>\n",
       "      <td>0.078618</td>\n",
       "      <td>0.894347</td>\n",
       "      <td>0.027036</td>\n",
       "    </tr>\n",
       "    <tr>\n",
       "      <th>...</th>\n",
       "      <td>...</td>\n",
       "      <td>...</td>\n",
       "      <td>...</td>\n",
       "      <td>...</td>\n",
       "      <td>...</td>\n",
       "      <td>...</td>\n",
       "      <td>...</td>\n",
       "      <td>...</td>\n",
       "      <td>...</td>\n",
       "      <td>...</td>\n",
       "      <td>...</td>\n",
       "      <td>...</td>\n",
       "      <td>...</td>\n",
       "      <td>...</td>\n",
       "      <td>...</td>\n",
       "      <td>...</td>\n",
       "      <td>...</td>\n",
       "      <td>...</td>\n",
       "      <td>...</td>\n",
       "      <td>...</td>\n",
       "      <td>...</td>\n",
       "    </tr>\n",
       "    <tr>\n",
       "      <th>495</th>\n",
       "      <td>495</td>\n",
       "      <td>0</td>\n",
       "      <td>0.880435</td>\n",
       "      <td>2.0</td>\n",
       "      <td>0</td>\n",
       "      <td>-1</td>\n",
       "      <td>1</td>\n",
       "      <td>2</td>\n",
       "      <td>1.50</td>\n",
       "      <td>5.0</td>\n",
       "      <td>...</td>\n",
       "      <td>0.0</td>\n",
       "      <td>0.0</td>\n",
       "      <td>0.0</td>\n",
       "      <td>0.0</td>\n",
       "      <td>1.0</td>\n",
       "      <td>0.0</td>\n",
       "      <td>0.0</td>\n",
       "      <td>0.078303</td>\n",
       "      <td>0.026942</td>\n",
       "      <td>0.894756</td>\n",
       "    </tr>\n",
       "    <tr>\n",
       "      <th>496</th>\n",
       "      <td>496</td>\n",
       "      <td>0</td>\n",
       "      <td>0.760870</td>\n",
       "      <td>2.0</td>\n",
       "      <td>0</td>\n",
       "      <td>1</td>\n",
       "      <td>1</td>\n",
       "      <td>2</td>\n",
       "      <td>1.50</td>\n",
       "      <td>2.0</td>\n",
       "      <td>...</td>\n",
       "      <td>0.0</td>\n",
       "      <td>0.0</td>\n",
       "      <td>0.0</td>\n",
       "      <td>0.0</td>\n",
       "      <td>0.0</td>\n",
       "      <td>0.0</td>\n",
       "      <td>1.0</td>\n",
       "      <td>0.079446</td>\n",
       "      <td>0.027422</td>\n",
       "      <td>0.893132</td>\n",
       "    </tr>\n",
       "    <tr>\n",
       "      <th>497</th>\n",
       "      <td>497</td>\n",
       "      <td>0</td>\n",
       "      <td>0.771739</td>\n",
       "      <td>4.0</td>\n",
       "      <td>1</td>\n",
       "      <td>1</td>\n",
       "      <td>2</td>\n",
       "      <td>2</td>\n",
       "      <td>0.90</td>\n",
       "      <td>3.0</td>\n",
       "      <td>...</td>\n",
       "      <td>0.0</td>\n",
       "      <td>0.0</td>\n",
       "      <td>0.0</td>\n",
       "      <td>0.0</td>\n",
       "      <td>1.0</td>\n",
       "      <td>1.0</td>\n",
       "      <td>0.0</td>\n",
       "      <td>0.081021</td>\n",
       "      <td>0.028065</td>\n",
       "      <td>0.890914</td>\n",
       "    </tr>\n",
       "    <tr>\n",
       "      <th>498</th>\n",
       "      <td>498</td>\n",
       "      <td>1</td>\n",
       "      <td>0.750000</td>\n",
       "      <td>2.0</td>\n",
       "      <td>0</td>\n",
       "      <td>1</td>\n",
       "      <td>0</td>\n",
       "      <td>2</td>\n",
       "      <td>0.90</td>\n",
       "      <td>3.0</td>\n",
       "      <td>...</td>\n",
       "      <td>0.0</td>\n",
       "      <td>0.0</td>\n",
       "      <td>0.0</td>\n",
       "      <td>0.0</td>\n",
       "      <td>0.0</td>\n",
       "      <td>0.0</td>\n",
       "      <td>1.0</td>\n",
       "      <td>0.082076</td>\n",
       "      <td>0.028525</td>\n",
       "      <td>0.889400</td>\n",
       "    </tr>\n",
       "    <tr>\n",
       "      <th>499</th>\n",
       "      <td>499</td>\n",
       "      <td>1</td>\n",
       "      <td>0.663043</td>\n",
       "      <td>1.0</td>\n",
       "      <td>0</td>\n",
       "      <td>-1</td>\n",
       "      <td>0</td>\n",
       "      <td>0</td>\n",
       "      <td>NaN</td>\n",
       "      <td>3.0</td>\n",
       "      <td>...</td>\n",
       "      <td>0.0</td>\n",
       "      <td>0.0</td>\n",
       "      <td>0.0</td>\n",
       "      <td>0.0</td>\n",
       "      <td>1.0</td>\n",
       "      <td>0.0</td>\n",
       "      <td>0.0</td>\n",
       "      <td>0.083685</td>\n",
       "      <td>0.029187</td>\n",
       "      <td>0.887128</td>\n",
       "    </tr>\n",
       "  </tbody>\n",
       "</table>\n",
       "<p>500 rows × 112 columns</p>\n",
       "</div>\n",
       "      <button class=\"colab-df-convert\" onclick=\"convertToInteractive('df-67ef5248-92cc-4720-b7c0-defe3103b8da')\"\n",
       "              title=\"Convert this dataframe to an interactive table.\"\n",
       "              style=\"display:none;\">\n",
       "        \n",
       "  <svg xmlns=\"http://www.w3.org/2000/svg\" height=\"24px\"viewBox=\"0 0 24 24\"\n",
       "       width=\"24px\">\n",
       "    <path d=\"M0 0h24v24H0V0z\" fill=\"none\"/>\n",
       "    <path d=\"M18.56 5.44l.94 2.06.94-2.06 2.06-.94-2.06-.94-.94-2.06-.94 2.06-2.06.94zm-11 1L8.5 8.5l.94-2.06 2.06-.94-2.06-.94L8.5 2.5l-.94 2.06-2.06.94zm10 10l.94 2.06.94-2.06 2.06-.94-2.06-.94-.94-2.06-.94 2.06-2.06.94z\"/><path d=\"M17.41 7.96l-1.37-1.37c-.4-.4-.92-.59-1.43-.59-.52 0-1.04.2-1.43.59L10.3 9.45l-7.72 7.72c-.78.78-.78 2.05 0 2.83L4 21.41c.39.39.9.59 1.41.59.51 0 1.02-.2 1.41-.59l7.78-7.78 2.81-2.81c.8-.78.8-2.07 0-2.86zM5.41 20L4 18.59l7.72-7.72 1.47 1.35L5.41 20z\"/>\n",
       "  </svg>\n",
       "      </button>\n",
       "      \n",
       "  <style>\n",
       "    .colab-df-container {\n",
       "      display:flex;\n",
       "      flex-wrap:wrap;\n",
       "      gap: 12px;\n",
       "    }\n",
       "\n",
       "    .colab-df-convert {\n",
       "      background-color: #E8F0FE;\n",
       "      border: none;\n",
       "      border-radius: 50%;\n",
       "      cursor: pointer;\n",
       "      display: none;\n",
       "      fill: #1967D2;\n",
       "      height: 32px;\n",
       "      padding: 0 0 0 0;\n",
       "      width: 32px;\n",
       "    }\n",
       "\n",
       "    .colab-df-convert:hover {\n",
       "      background-color: #E2EBFA;\n",
       "      box-shadow: 0px 1px 2px rgba(60, 64, 67, 0.3), 0px 1px 3px 1px rgba(60, 64, 67, 0.15);\n",
       "      fill: #174EA6;\n",
       "    }\n",
       "\n",
       "    [theme=dark] .colab-df-convert {\n",
       "      background-color: #3B4455;\n",
       "      fill: #D2E3FC;\n",
       "    }\n",
       "\n",
       "    [theme=dark] .colab-df-convert:hover {\n",
       "      background-color: #434B5C;\n",
       "      box-shadow: 0px 1px 3px 1px rgba(0, 0, 0, 0.15);\n",
       "      filter: drop-shadow(0px 1px 2px rgba(0, 0, 0, 0.3));\n",
       "      fill: #FFFFFF;\n",
       "    }\n",
       "  </style>\n",
       "\n",
       "      <script>\n",
       "        const buttonEl =\n",
       "          document.querySelector('#df-67ef5248-92cc-4720-b7c0-defe3103b8da button.colab-df-convert');\n",
       "        buttonEl.style.display =\n",
       "          google.colab.kernel.accessAllowed ? 'block' : 'none';\n",
       "\n",
       "        async function convertToInteractive(key) {\n",
       "          const element = document.querySelector('#df-67ef5248-92cc-4720-b7c0-defe3103b8da');\n",
       "          const dataTable =\n",
       "            await google.colab.kernel.invokeFunction('convertToInteractive',\n",
       "                                                     [key], {});\n",
       "          if (!dataTable) return;\n",
       "\n",
       "          const docLinkHtml = 'Like what you see? Visit the ' +\n",
       "            '<a target=\"_blank\" href=https://colab.research.google.com/notebooks/data_table.ipynb>data table notebook</a>'\n",
       "            + ' to learn more about interactive tables.';\n",
       "          element.innerHTML = '';\n",
       "          dataTable['output_type'] = 'display_data';\n",
       "          await google.colab.output.renderOutput(dataTable, element);\n",
       "          const docLink = document.createElement('div');\n",
       "          docLink.innerHTML = docLinkHtml;\n",
       "          element.appendChild(docLink);\n",
       "        }\n",
       "      </script>\n",
       "    </div>\n",
       "  </div>\n",
       "  "
      ],
      "text/plain": [
       "     Unnamed: 0  M1. Płeć respondenta:  M2. Ile ma Pan/Pani lat?  \\\n",
       "0             0                      1                  0.815217   \n",
       "1             1                      0                  0.695652   \n",
       "2             2                      1                  0.782609   \n",
       "3             3                      0                  0.923913   \n",
       "4             4                      0                  0.978261   \n",
       "..          ...                    ...                       ...   \n",
       "495         495                      0                  0.880435   \n",
       "496         496                      0                  0.760870   \n",
       "497         497                      0                  0.771739   \n",
       "498         498                      1                  0.750000   \n",
       "499         499                      1                  0.663043   \n",
       "\n",
       "     M3. Z ilu osób (razem z Panem/Panią) składa się Pana/Pani gospodarstwo domowe?  \\\n",
       "0                                                  2.0                                \n",
       "1                                                  3.0                                \n",
       "2                                                  2.0                                \n",
       "3                                                  1.0                                \n",
       "4                                                  1.0                                \n",
       "..                                                 ...                                \n",
       "495                                                2.0                                \n",
       "496                                                2.0                                \n",
       "497                                                4.0                                \n",
       "498                                                2.0                                \n",
       "499                                                1.0                                \n",
       "\n",
       "     M3A. Ile z tych osób ma poniżej 6 lat?  \\\n",
       "0                                         0   \n",
       "1                                         0   \n",
       "2                                         0   \n",
       "3                                         0   \n",
       "4                                         0   \n",
       "..                                      ...   \n",
       "495                                       0   \n",
       "496                                       0   \n",
       "497                                       1   \n",
       "498                                       0   \n",
       "499                                       0   \n",
       "\n",
       "     M8. W jakim rodzaju budownictwa Pan/i mieszka?  \\\n",
       "0                                                 1   \n",
       "1                                                -1   \n",
       "2                                                 1   \n",
       "3                                                 1   \n",
       "4                                                -1   \n",
       "..                                              ...   \n",
       "495                                              -1   \n",
       "496                                               1   \n",
       "497                                               1   \n",
       "498                                               1   \n",
       "499                                              -1   \n",
       "\n",
       "     M9A. Ile samochodów osobowych znajduje się w Pana/Pani gospodarstwie domowym?  \\\n",
       "0                                                    1                               \n",
       "1                                                    3                               \n",
       "2                                                    1                               \n",
       "3                                                    0                               \n",
       "4                                                    1                               \n",
       "..                                                 ...                               \n",
       "495                                                  1                               \n",
       "496                                                  1                               \n",
       "497                                                  2                               \n",
       "498                                                  0                               \n",
       "499                                                  0                               \n",
       "\n",
       "     M10A. Ile rowerów (nie uwzględniając rowerów dziecięcych) znajduje się w Pana/Pani gospodarstwie domowym?  \\\n",
       "0                                                    2                                                           \n",
       "1                                                    0                                                           \n",
       "2                                                    2                                                           \n",
       "3                                                    1                                                           \n",
       "4                                                    0                                                           \n",
       "..                                                 ...                                                           \n",
       "495                                                  2                                                           \n",
       "496                                                  2                                                           \n",
       "497                                                  2                                                           \n",
       "498                                                  2                                                           \n",
       "499                                                  0                                                           \n",
       "\n",
       "     M12. Proszę wybrać, który z przedziałów wartości dochodu netto (na rękę) na osobę najlepiej opisuje Pana/i gospodarstwo domowe.  \\\n",
       "0                                                  NaN                                                                                 \n",
       "1                                                 1.50                                                                                 \n",
       "2                                                 1.50                                                                                 \n",
       "3                                                 1.50                                                                                 \n",
       "4                                                 2.25                                                                                 \n",
       "..                                                 ...                                                                                 \n",
       "495                                               1.50                                                                                 \n",
       "496                                               1.50                                                                                 \n",
       "497                                               0.90                                                                                 \n",
       "498                                               0.90                                                                                 \n",
       "499                                                NaN                                                                                 \n",
       "\n",
       "     M14. Proszę wybrać, jakie ma Pan/i ukończone wykształcenie  ...  \\\n",
       "0                                                  5.0           ...   \n",
       "1                                                  3.0           ...   \n",
       "2                                                  5.0           ...   \n",
       "3                                                  5.0           ...   \n",
       "4                                                  5.0           ...   \n",
       "..                                                 ...           ...   \n",
       "495                                                5.0           ...   \n",
       "496                                                2.0           ...   \n",
       "497                                                3.0           ...   \n",
       "498                                                3.0           ...   \n",
       "499                                                3.0           ...   \n",
       "\n",
       "     4.kościół_rower  4.kościół_samochód (jako pasażer)  \\\n",
       "0                0.0                                1.0   \n",
       "1                0.0                                0.0   \n",
       "2                0.0                                0.0   \n",
       "3                0.0                                1.0   \n",
       "4                0.0                                0.0   \n",
       "..               ...                                ...   \n",
       "495              0.0                                0.0   \n",
       "496              0.0                                0.0   \n",
       "497              0.0                                0.0   \n",
       "498              0.0                                0.0   \n",
       "499              0.0                                0.0   \n",
       "\n",
       "     4.kościół_inne/więcej niż 1 środek transportu  \\\n",
       "0                                              0.0   \n",
       "1                                              0.0   \n",
       "2                                              0.0   \n",
       "3                                              0.0   \n",
       "4                                              0.0   \n",
       "..                                             ...   \n",
       "495                                            0.0   \n",
       "496                                            0.0   \n",
       "497                                            0.0   \n",
       "498                                            0.0   \n",
       "499                                            0.0   \n",
       "\n",
       "     4.kościół_transport publiczny  11.Indywidualny transport  \\\n",
       "0                              0.0                        0.0   \n",
       "1                              0.0                        0.0   \n",
       "2                              0.0                        0.0   \n",
       "3                              0.0                        1.0   \n",
       "4                              0.0                        1.0   \n",
       "..                             ...                        ...   \n",
       "495                            0.0                        1.0   \n",
       "496                            0.0                        0.0   \n",
       "497                            0.0                        1.0   \n",
       "498                            0.0                        0.0   \n",
       "499                            0.0                        1.0   \n",
       "\n",
       "     11.Niedostosowana oferta przewoźników  11.Inne  Klaster 0  Klaster 1  \\\n",
       "0                                      1.0      0.0   0.083886   0.886881   \n",
       "1                                      1.0      0.0   0.082667   0.888616   \n",
       "2                                      0.0      1.0   0.081354   0.890485   \n",
       "3                                      0.0      0.0   0.079938   0.892481   \n",
       "4                                      0.0      0.0   0.078618   0.894347   \n",
       "..                                     ...      ...        ...        ...   \n",
       "495                                    0.0      0.0   0.078303   0.026942   \n",
       "496                                    0.0      1.0   0.079446   0.027422   \n",
       "497                                    1.0      0.0   0.081021   0.028065   \n",
       "498                                    0.0      1.0   0.082076   0.028525   \n",
       "499                                    0.0      0.0   0.083685   0.029187   \n",
       "\n",
       "     Klaster 2  \n",
       "0     0.029232  \n",
       "1     0.028716  \n",
       "2     0.028161  \n",
       "3     0.027581  \n",
       "4     0.027036  \n",
       "..         ...  \n",
       "495   0.894756  \n",
       "496   0.893132  \n",
       "497   0.890914  \n",
       "498   0.889400  \n",
       "499   0.887128  \n",
       "\n",
       "[500 rows x 112 columns]"
      ]
     },
     "execution_count": 261,
     "metadata": {},
     "output_type": "execute_result"
    }
   ],
   "source": [
    "df"
   ]
  },
  {
   "cell_type": "markdown",
   "metadata": {
    "id": "wlinqV5fYvfj"
   },
   "source": [
    "Do każdego wiersza metodą argmax() przypisujemy odpowiedni klaster."
   ]
  },
  {
   "cell_type": "code",
   "execution_count": null,
   "metadata": {
    "id": "_vtthZUhNipb"
   },
   "outputs": [],
   "source": [
    "cluster_labels = pd.Series(np.argmax(u, axis=0))\n",
    "df['Cluster'] = cluster_labels"
   ]
  },
  {
   "cell_type": "code",
   "execution_count": null,
   "metadata": {
    "colab": {
     "base_uri": "https://localhost:8080/"
    },
    "id": "PTCfyMOE2TM8",
    "outputId": "c33685c2-2046-40ca-a52f-f6b33c9abc65"
   },
   "outputs": [
    {
     "data": {
      "text/plain": [
       "0.5202143227522729"
      ]
     },
     "execution_count": 263,
     "metadata": {},
     "output_type": "execute_result"
    }
   ],
   "source": [
    "from sklearn.metrics import davies_bouldin_score\n",
    "db_index = davies_bouldin_score(data, cluster_labels)\n",
    "db_index"
   ]
  },
  {
   "cell_type": "code",
   "execution_count": null,
   "metadata": {
    "colab": {
     "base_uri": "https://localhost:8080/"
    },
    "id": "u3tZDt-ktyWi",
    "outputId": "424fd9e4-3eaa-4165-97d9-90f9f8b4ae7c"
   },
   "outputs": [
    {
     "data": {
      "text/plain": [
       "0    174\n",
       "1    163\n",
       "2    163\n",
       "Name: Cluster, dtype: int64"
      ]
     },
     "execution_count": 264,
     "metadata": {},
     "output_type": "execute_result"
    }
   ],
   "source": [
    "df['Cluster'].value_counts()"
   ]
  },
  {
   "cell_type": "markdown",
   "metadata": {
    "id": "geKraEdEuEHO"
   },
   "source": [
    "Wyświetlamy dla odpowiednich kolumn procentowy podział na klastry."
   ]
  },
  {
   "cell_type": "code",
   "execution_count": null,
   "metadata": {
    "colab": {
     "base_uri": "https://localhost:8080/"
    },
    "id": "t8rV80xSqJuW",
    "outputId": "b4e2da80-f4b2-43ce-af15-8d1e538004ac"
   },
   "outputs": [
    {
     "data": {
      "text/plain": [
       "Cluster  M1. Płeć respondenta:\n",
       "0        1                        59.77\n",
       "         0                        40.23\n",
       "1        1                        58.28\n",
       "         0                        41.72\n",
       "2        1                        67.48\n",
       "         0                        32.52\n",
       "Name: M1. Płeć respondenta:, dtype: float64"
      ]
     },
     "execution_count": 265,
     "metadata": {},
     "output_type": "execute_result"
    }
   ],
   "source": [
    "df.groupby('Cluster')['M1. Płeć respondenta:'].value_counts(normalize=True).mul(100).round(2)"
   ]
  },
  {
   "cell_type": "markdown",
   "metadata": {
    "id": "MSWAyhquvrWB"
   },
   "source": [
    "Wyliczenie średniej wieku dla każdego z klastrów."
   ]
  },
  {
   "cell_type": "code",
   "execution_count": null,
   "metadata": {
    "id": "WQRpM7m_CAbV"
   },
   "outputs": [],
   "source": [
    "df[\"M2. Ile ma Pan/Pani lat?\"] = df[\"M2. Ile ma Pan/Pani lat?\"]*90 #90 jest największą wartością z kolumny \"M2. Ile ma Pan/Pani lat?\" z pliku Preprocessing"
   ]
  },
  {
   "cell_type": "code",
   "execution_count": null,
   "metadata": {
    "colab": {
     "base_uri": "https://localhost:8080/"
    },
    "id": "afD0yALVqOoG",
    "outputId": "a49696e2-ef5b-4ac9-c7cb-149706a81622"
   },
   "outputs": [
    {
     "data": {
      "text/plain": [
       "Cluster\n",
       "0    66.398051\n",
       "1    67.500000\n",
       "2    69.534543\n",
       "Name: M2. Ile ma Pan/Pani lat?, dtype: float64"
      ]
     },
     "execution_count": 267,
     "metadata": {},
     "output_type": "execute_result"
    }
   ],
   "source": [
    "df.groupby('Cluster')[\"M2. Ile ma Pan/Pani lat?\"].mean()"
   ]
  },
  {
   "cell_type": "code",
   "execution_count": null,
   "metadata": {
    "colab": {
     "base_uri": "https://localhost:8080/"
    },
    "id": "915noXY4qwJ_",
    "outputId": "2e4fb746-1d4c-44c3-fc53-2ca0c3920d08"
   },
   "outputs": [
    {
     "data": {
      "text/plain": [
       "Cluster  M3. Z ilu osób (razem z Panem/Panią) składa się Pana/Pani gospodarstwo domowe?\n",
       "0        2.0                                                                               47.67\n",
       "         1.0                                                                               31.98\n",
       "         3.0                                                                               12.21\n",
       "         4.0                                                                                8.14\n",
       "1        2.0                                                                               54.32\n",
       "         1.0                                                                               29.01\n",
       "         3.0                                                                               10.49\n",
       "         4.0                                                                                6.17\n",
       "2        2.0                                                                               49.69\n",
       "         1.0                                                                               34.78\n",
       "         4.0                                                                                8.70\n",
       "         3.0                                                                                6.83\n",
       "Name: M3. Z ilu osób (razem z Panem/Panią) składa się Pana/Pani gospodarstwo domowe?, dtype: float64"
      ]
     },
     "execution_count": 268,
     "metadata": {},
     "output_type": "execute_result"
    }
   ],
   "source": [
    "df.groupby('Cluster')['M3. Z ilu osób (razem z Panem/Panią) składa się Pana/Pani gospodarstwo domowe?'].value_counts(normalize=True).mul(100).round(2)"
   ]
  },
  {
   "cell_type": "code",
   "execution_count": null,
   "metadata": {
    "colab": {
     "base_uri": "https://localhost:8080/"
    },
    "id": "Cay4CvkyrGFX",
    "outputId": "907a84c4-0321-463b-edf0-38a8a546ee71"
   },
   "outputs": [
    {
     "data": {
      "text/plain": [
       "Cluster  M3A. Ile z tych osób ma poniżej 6 lat?\n",
       "0        0                                         98.28\n",
       "         1                                          1.72\n",
       "1        0                                         98.16\n",
       "         1                                          1.84\n",
       "2        0                                         98.16\n",
       "         1                                          1.84\n",
       "Name: M3A. Ile z tych osób ma poniżej 6 lat?, dtype: float64"
      ]
     },
     "execution_count": 269,
     "metadata": {},
     "output_type": "execute_result"
    }
   ],
   "source": [
    "df.groupby('Cluster')['M3A. Ile z tych osób ma poniżej 6 lat?'].value_counts(normalize=True).mul(100).round(2)"
   ]
  },
  {
   "cell_type": "markdown",
   "metadata": {
    "id": "E1kDKbK3rvZq"
   },
   "source": [
    "Podobny podział, mało odpowiedzi innych niż 0."
   ]
  },
  {
   "cell_type": "code",
   "execution_count": null,
   "metadata": {
    "colab": {
     "base_uri": "https://localhost:8080/"
    },
    "id": "8n-sMolqrtYW",
    "outputId": "8c57b611-931c-4557-d136-c45f2a8ceada"
   },
   "outputs": [
    {
     "data": {
      "text/plain": [
       "Cluster  M8. W jakim rodzaju budownictwa Pan/i mieszka?\n",
       "0         1                                                52.87\n",
       "         -1                                                47.13\n",
       "1         1                                                52.15\n",
       "         -1                                                46.63\n",
       "          0                                                 1.23\n",
       "2         1                                                53.99\n",
       "         -1                                                45.40\n",
       "          0                                                 0.61\n",
       "Name: M8. W jakim rodzaju budownictwa Pan/i mieszka?, dtype: float64"
      ]
     },
     "execution_count": 270,
     "metadata": {},
     "output_type": "execute_result"
    }
   ],
   "source": [
    "df.groupby('Cluster')['M8. W jakim rodzaju budownictwa Pan/i mieszka?'].value_counts(normalize=True).mul(100).round(2)"
   ]
  },
  {
   "cell_type": "markdown",
   "metadata": {
    "id": "Hdx9NbT3r61I"
   },
   "source": [
    "W powyższym pytaniu:\n",
    "* 1: Jednorodzinny (np. wolnostojące, szeregowe, bliźniacze);  \n",
    "* -1: Wielorodzinny (np. blok mieszkalny, kamienica);           \n",
    "* 0: Odmowa odpowiedzi.\n",
    "\n",
    "Odpowiedzi między klastrami nie różnią się."
   ]
  },
  {
   "cell_type": "code",
   "execution_count": null,
   "metadata": {
    "colab": {
     "base_uri": "https://localhost:8080/"
    },
    "id": "Fp4UrahEr22z",
    "outputId": "6f8121ec-cff5-4ffa-e3cd-ece240c26e7c"
   },
   "outputs": [
    {
     "data": {
      "text/plain": [
       "Cluster  M9A. Ile samochodów osobowych znajduje się w Pana/Pani gospodarstwie domowym?\n",
       "0        1                                                                                49.43\n",
       "         0                                                                                28.74\n",
       "         2                                                                                17.24\n",
       "         3                                                                                 4.60\n",
       "1        1                                                                                46.63\n",
       "         0                                                                                25.15\n",
       "         2                                                                                20.25\n",
       "         3                                                                                 7.98\n",
       "2        1                                                                                44.79\n",
       "         0                                                                                36.81\n",
       "         2                                                                                15.34\n",
       "         3                                                                                 3.07\n",
       "Name: M9A. Ile samochodów osobowych znajduje się w Pana/Pani gospodarstwie domowym?, dtype: float64"
      ]
     },
     "execution_count": 271,
     "metadata": {},
     "output_type": "execute_result"
    }
   ],
   "source": [
    "df.groupby('Cluster')['M9A. Ile samochodów osobowych znajduje się w Pana/Pani gospodarstwie domowym?'].value_counts(normalize=True).mul(100).round(2)"
   ]
  },
  {
   "cell_type": "code",
   "execution_count": null,
   "metadata": {
    "colab": {
     "base_uri": "https://localhost:8080/"
    },
    "id": "YKq8en96sgf7",
    "outputId": "68da4e08-43b2-40d3-b00d-31272f65eafc"
   },
   "outputs": [
    {
     "data": {
      "text/plain": [
       "Cluster  M10A. Ile rowerów (nie uwzględniając rowerów dziecięcych) znajduje się w Pana/Pani gospodarstwie domowym?\n",
       "0        2                                                                                                            32.76\n",
       "         0                                                                                                            24.14\n",
       "         1                                                                                                            22.41\n",
       "         3                                                                                                            13.79\n",
       "         4                                                                                                             6.90\n",
       "1        2                                                                                                            30.06\n",
       "         1                                                                                                            29.45\n",
       "         0                                                                                                            23.93\n",
       "         4                                                                                                             8.59\n",
       "         3                                                                                                             7.98\n",
       "2        0                                                                                                            31.90\n",
       "         2                                                                                                            26.38\n",
       "         1                                                                                                            25.15\n",
       "         3                                                                                                             9.82\n",
       "         4                                                                                                             6.75\n",
       "Name: M10A. Ile rowerów (nie uwzględniając rowerów dziecięcych) znajduje się w Pana/Pani gospodarstwie domowym?, dtype: float64"
      ]
     },
     "execution_count": 272,
     "metadata": {},
     "output_type": "execute_result"
    }
   ],
   "source": [
    "df.groupby('Cluster')['M10A. Ile rowerów (nie uwzględniając rowerów dziecięcych) znajduje się w Pana/Pani gospodarstwie domowym?'].value_counts(normalize=True).mul(100).round(2)"
   ]
  },
  {
   "cell_type": "code",
   "execution_count": null,
   "metadata": {
    "colab": {
     "base_uri": "https://localhost:8080/"
    },
    "id": "H1ICN0q1wNvw",
    "outputId": "74efadbd-a55b-44a7-bbaa-a1fc9f9fc14f"
   },
   "outputs": [
    {
     "data": {
      "text/plain": [
       "Cluster  M12. Proszę wybrać, który z przedziałów wartości dochodu netto (na rękę) na osobę najlepiej opisuje Pana/i gospodarstwo domowe.\n",
       "0        0.90                                                                                                                               43.80\n",
       "         1.50                                                                                                                               34.71\n",
       "         0.45                                                                                                                               10.74\n",
       "         2.25                                                                                                                                9.92\n",
       "         0.25                                                                                                                                0.83\n",
       "1        1.50                                                                                                                               45.45\n",
       "         0.90                                                                                                                               35.54\n",
       "         2.25                                                                                                                               12.40\n",
       "         0.45                                                                                                                                5.79\n",
       "         0.25                                                                                                                                0.83\n",
       "2        0.90                                                                                                                               45.45\n",
       "         1.50                                                                                                                               34.71\n",
       "         2.25                                                                                                                                9.09\n",
       "         0.45                                                                                                                                8.26\n",
       "         0.25                                                                                                                                2.48\n",
       "Name: M12. Proszę wybrać, który z przedziałów wartości dochodu netto (na rękę) na osobę najlepiej opisuje Pana/i gospodarstwo domowe., dtype: float64"
      ]
     },
     "execution_count": 273,
     "metadata": {},
     "output_type": "execute_result"
    }
   ],
   "source": [
    "df.groupby('Cluster')['M12. Proszę wybrać, który z przedziałów wartości dochodu netto (na rękę) na osobę najlepiej opisuje Pana/i gospodarstwo domowe.'].value_counts(normalize=True).mul(100).round(2)"
   ]
  },
  {
   "cell_type": "markdown",
   "metadata": {
    "id": "xKJcNFBEb22v"
   },
   "source": [
    "W powyższym pytaniu:\n",
    "* 0.9: pomiędzy 1200 a 2000 zł na rękę na osobę;   \n",
    "* 1.5: pomiędzy 2000 a 4000 zł na rękę na osobę;                \n",
    "* 2.25: powyżej 4000 zł na rękę na osobę;             \n",
    "* 0.45: pomiędzy 600 a 1200 zł na rękę na osobę;                           \n",
    "* 0.25: do 600 zł na rękę na osobę.      \n",
    "\n",
    "Odpowiedzi różnią się. W pierwszym i trzecim klastrze najczęstsza odpowiedź to ,,pomiędzy 1200 a 2000 zł na rękę na osob'', zaś w drugim to ,,pomiędzy 2000 a 4000 zł na rękę na osobę''."
   ]
  },
  {
   "cell_type": "code",
   "execution_count": null,
   "metadata": {
    "colab": {
     "base_uri": "https://localhost:8080/"
    },
    "id": "B4JOgu3RvT3f",
    "outputId": "63f15ffb-d00e-47f2-800b-13cd44fab8b7"
   },
   "outputs": [
    {
     "data": {
      "text/plain": [
       "Cluster  M14. Proszę wybrać, jakie ma Pan/i ukończone wykształcenie\n",
       "0        3.0                                                           41.95\n",
       "         5.0                                                           27.01\n",
       "         2.0                                                           22.41\n",
       "         4.0                                                            4.60\n",
       "         1.0                                                            3.45\n",
       "         0.0                                                            0.57\n",
       "1        3.0                                                           47.53\n",
       "         5.0                                                           34.57\n",
       "         2.0                                                           12.96\n",
       "         4.0                                                            3.09\n",
       "         1.0                                                            1.85\n",
       "2        3.0                                                           45.40\n",
       "         5.0                                                           27.61\n",
       "         2.0                                                           14.11\n",
       "         1.0                                                            7.36\n",
       "         4.0                                                            5.52\n",
       "Name: M14. Proszę wybrać, jakie ma Pan/i ukończone wykształcenie, dtype: float64"
      ]
     },
     "execution_count": 274,
     "metadata": {},
     "output_type": "execute_result"
    }
   ],
   "source": [
    "df.groupby('Cluster')['M14. Proszę wybrać, jakie ma Pan/i ukończone wykształcenie'].value_counts(normalize=True).mul(100).round(2)"
   ]
  },
  {
   "cell_type": "markdown",
   "metadata": {
    "id": "LpMYojta0Ge0"
   },
   "source": [
    "W powyższym pytaniu:\n",
    "* 5: wykształcenie wyższe;\n",
    "* 4: absolwent szkoły policealnej lub pomaturalnej;\n",
    "* 3: wykształcenie średnie;\n",
    "* 2: wykształcenie zawodowe;\n",
    "* 1: wykształcenie podstawowe, gimnazjalne;\n",
    "* 0: brak wykształcenia."
   ]
  },
  {
   "cell_type": "code",
   "execution_count": null,
   "metadata": {
    "colab": {
     "base_uri": "https://localhost:8080/"
    },
    "id": "My_dxSKwdPFW",
    "outputId": "1fda2904-e303-4e08-e4ec-e42004f94df0"
   },
   "outputs": [
    {
     "data": {
      "text/plain": [
       "Cluster  M15. Czy na dzień dzisiejszy posiada Pan/i uprawnienia do kierowania samochodem osobowym?\n",
       "0        1                                                                                            70.11\n",
       "         0                                                                                            29.89\n",
       "1        1                                                                                            72.39\n",
       "         0                                                                                            27.61\n",
       "2        1                                                                                            60.12\n",
       "         0                                                                                            39.88\n",
       "Name: M15. Czy na dzień dzisiejszy posiada Pan/i uprawnienia do kierowania samochodem osobowym?, dtype: float64"
      ]
     },
     "execution_count": 275,
     "metadata": {},
     "output_type": "execute_result"
    }
   ],
   "source": [
    "df.groupby('Cluster')['M15. Czy na dzień dzisiejszy posiada Pan/i uprawnienia do kierowania samochodem osobowym?'].value_counts(normalize=True).mul(100).round(2)"
   ]
  },
  {
   "cell_type": "code",
   "execution_count": null,
   "metadata": {
    "colab": {
     "base_uri": "https://localhost:8080/"
    },
    "id": "UzYEha23xT_w",
    "outputId": "aa127d20-5ac0-42d1-fa3a-d71f8f0d7d8a"
   },
   "outputs": [
    {
     "data": {
      "text/plain": [
       "Cluster  M16.Emeryt\n",
       "0        1             79.89\n",
       "         0             20.11\n",
       "1        1             64.42\n",
       "         0             35.58\n",
       "2        1             74.85\n",
       "         0             25.15\n",
       "Name: M16.Emeryt, dtype: float64"
      ]
     },
     "execution_count": 276,
     "metadata": {},
     "output_type": "execute_result"
    }
   ],
   "source": [
    "df.groupby('Cluster')['M16.Emeryt'].value_counts(normalize=True).mul(100).round(2)"
   ]
  },
  {
   "cell_type": "code",
   "execution_count": null,
   "metadata": {
    "colab": {
     "base_uri": "https://localhost:8080/"
    },
    "id": "Vu92C2vaGYnf",
    "outputId": "53b39a7f-8ebd-43d5-eb53-4919cb52ca58"
   },
   "outputs": [
    {
     "data": {
      "text/plain": [
       "Cluster  M16.Rencista\n",
       "0        0               97.13\n",
       "         1                2.87\n",
       "1        0               95.71\n",
       "         1                4.29\n",
       "2        0               95.09\n",
       "         1                4.91\n",
       "Name: M16.Rencista, dtype: float64"
      ]
     },
     "execution_count": 277,
     "metadata": {},
     "output_type": "execute_result"
    }
   ],
   "source": [
    "df.groupby('Cluster')['M16.Rencista'].value_counts(normalize=True).mul(100).round(2)"
   ]
  },
  {
   "cell_type": "code",
   "execution_count": null,
   "metadata": {
    "colab": {
     "base_uri": "https://localhost:8080/"
    },
    "id": "1pylLLDzGjvV",
    "outputId": "966c96c9-22cb-4f17-8a6e-a5eb911be1ec"
   },
   "outputs": [
    {
     "data": {
      "text/plain": [
       "Cluster  M16.Inne\n",
       "0        0.0         98.85\n",
       "         1.0          1.15\n",
       "1        0.0         96.93\n",
       "         1.0          3.07\n",
       "2        0.0         95.09\n",
       "         1.0          4.91\n",
       "Name: M16.Inne, dtype: float64"
      ]
     },
     "execution_count": 278,
     "metadata": {},
     "output_type": "execute_result"
    }
   ],
   "source": [
    "df.groupby('Cluster')['M16.Inne'].value_counts(normalize=True).mul(100).round(2)"
   ]
  },
  {
   "cell_type": "code",
   "execution_count": null,
   "metadata": {
    "colab": {
     "base_uri": "https://localhost:8080/"
    },
    "id": "RY4z06aoGa4g",
    "outputId": "7a47345a-bc14-4ee6-c443-1cd90090cd81"
   },
   "outputs": [
    {
     "data": {
      "text/plain": [
       "Cluster  M16.Pracujacy\n",
       "0        0.0              83.91\n",
       "         1.0              16.09\n",
       "1        0.0              71.78\n",
       "         1.0              28.22\n",
       "2        0.0              85.28\n",
       "         1.0              14.72\n",
       "Name: M16.Pracujacy, dtype: float64"
      ]
     },
     "execution_count": 279,
     "metadata": {},
     "output_type": "execute_result"
    }
   ],
   "source": [
    "df.groupby('Cluster')['M16.Pracujacy'].value_counts(normalize=True).mul(100).round(2)"
   ]
  },
  {
   "cell_type": "markdown",
   "metadata": {
    "id": "q4NbsgzwOtA0"
   },
   "source": [
    "W pytaniu 16.A obowiązuje:\n",
    "* 1: w moim mieście,\n",
    "* -1: poza miastem zamieszkania,\n",
    "* 0: brak odpowiedzi."
   ]
  },
  {
   "cell_type": "code",
   "execution_count": null,
   "metadata": {
    "colab": {
     "base_uri": "https://localhost:8080/"
    },
    "id": "XASsYxygOnTz",
    "outputId": "190f2c3b-c4d0-4d4e-da0c-d2e0d6571179"
   },
   "outputs": [
    {
     "data": {
      "text/plain": [
       "Cluster  M16.1. Gdzie pracuje Pan/i?\n",
       "0         0                             83.91\n",
       "         -1                              8.62\n",
       "          1                              7.47\n",
       "1         0                             71.78\n",
       "          1                             20.86\n",
       "         -1                              7.36\n",
       "2         0                             85.28\n",
       "          1                              8.59\n",
       "         -1                              6.13\n",
       "Name: M16.1. Gdzie pracuje Pan/i?, dtype: float64"
      ]
     },
     "execution_count": 280,
     "metadata": {},
     "output_type": "execute_result"
    }
   ],
   "source": [
    "df.groupby('Cluster')['M16.1. Gdzie pracuje Pan/i?'].value_counts(normalize=True).mul(100).round(2)"
   ]
  },
  {
   "cell_type": "markdown",
   "metadata": {
    "id": "Nv6HzaXWSBwd"
   },
   "source": [
    "Zbyt wiele pustych wartości, aby interpretować powyższe pytanie."
   ]
  },
  {
   "cell_type": "markdown",
   "metadata": {
    "id": "FUqblC5EqFuy"
   },
   "source": [
    "**Pytanie 3**"
   ]
  },
  {
   "cell_type": "markdown",
   "metadata": {
    "id": "J8IGfGT011Vm"
   },
   "source": [
    "W pytaniu 3 obowiązuje skala:\n",
    "* 0: odmowa odpowiedzi\n",
    "* 1: codziennie (dni powszednie)\n",
    "* 2: kilka razy w tygodniu (dni powszednie)\n",
    "* 3: w weekendy\n",
    "* 4: kilka razy w miesiącu\n",
    "* 5: raz w miesiącu\n",
    "* 6: w ostatnim miesiącu ani razu\n",
    "* 7: nie dotyczy\n"
   ]
  },
  {
   "cell_type": "code",
   "execution_count": null,
   "metadata": {
    "colab": {
     "base_uri": "https://localhost:8080/"
    },
    "id": "nZjtBXeeuMrE",
    "outputId": "4e09def8-ad3c-4530-a7dc-83cdd5835704"
   },
   "outputs": [
    {
     "data": {
      "text/plain": [
       "7.0    62.58\n",
       "1.0    15.90\n",
       "6.0    13.88\n",
       "2.0     5.43\n",
       "4.0     2.01\n",
       "5.0     0.20\n",
       "Name: 3. Proszę określić jak często załatwiał/a Pan/Pani poniższe sprawy w ostatnim miesiącu:.praca, dtype: float64"
      ]
     },
     "execution_count": 281,
     "metadata": {},
     "output_type": "execute_result"
    }
   ],
   "source": [
    "df['3. Proszę określić jak często załatwiał/a Pan/Pani poniższe sprawy w ostatnim miesiącu:.praca'].value_counts(normalize=True).mul(100).round(2)"
   ]
  },
  {
   "cell_type": "code",
   "execution_count": null,
   "metadata": {
    "colab": {
     "base_uri": "https://localhost:8080/"
    },
    "id": "W7mbfTiiqOje",
    "outputId": "8fa75cbd-1030-442d-c1c4-2cbd3d764ac6"
   },
   "outputs": [
    {
     "data": {
      "text/plain": [
       "2.0    52.62\n",
       "1.0    17.34\n",
       "4.0    11.49\n",
       "3.0     6.05\n",
       "7.0     6.05\n",
       "6.0     5.85\n",
       "5.0     0.60\n",
       "Name: 3. Proszę określić jak często załatwiał/a Pan/Pani poniższe sprawy w ostatnim miesiącu:.zakupy codzienne (spożywcze), dtype: float64"
      ]
     },
     "execution_count": 282,
     "metadata": {},
     "output_type": "execute_result"
    }
   ],
   "source": [
    "df['3. Proszę określić jak często załatwiał/a Pan/Pani poniższe sprawy w ostatnim miesiącu:.zakupy codzienne (spożywcze)'].value_counts(normalize=True).mul(100).round(2)"
   ]
  },
  {
   "cell_type": "code",
   "execution_count": null,
   "metadata": {
    "colab": {
     "base_uri": "https://localhost:8080/"
    },
    "id": "9sWJXApQqTks",
    "outputId": "4c133343-f0f3-4f58-cfe0-a3d192843624"
   },
   "outputs": [
    {
     "data": {
      "text/plain": [
       "6    47.0\n",
       "5    20.0\n",
       "7    16.6\n",
       "4    14.8\n",
       "2     1.4\n",
       "1     0.2\n",
       "Name: 3. Proszę określić jak często załatwiał/a Pan/Pani poniższe sprawy w ostatnim miesiącu:.sprawy urzędowe, dtype: float64"
      ]
     },
     "execution_count": 283,
     "metadata": {},
     "output_type": "execute_result"
    }
   ],
   "source": [
    "df['3. Proszę określić jak często załatwiał/a Pan/Pani poniższe sprawy w ostatnim miesiącu:.sprawy urzędowe'].value_counts(normalize=True).mul(100).round(2)"
   ]
  },
  {
   "cell_type": "code",
   "execution_count": null,
   "metadata": {
    "colab": {
     "base_uri": "https://localhost:8080/"
    },
    "id": "Mj9vDD7CqcgP",
    "outputId": "e822eceb-ed4f-470b-9dad-c79669513b2a"
   },
   "outputs": [
    {
     "data": {
      "text/plain": [
       "3.0    27.57\n",
       "6.0    27.16\n",
       "4.0    17.28\n",
       "7.0    17.28\n",
       "5.0     7.00\n",
       "1.0     2.06\n",
       "2.0     1.65\n",
       "Name: 3. Proszę określić jak często załatwiał/a Pan/Pani poniższe sprawy w ostatnim miesiącu:.kościół, dtype: float64"
      ]
     },
     "execution_count": 284,
     "metadata": {},
     "output_type": "execute_result"
    }
   ],
   "source": [
    "df['3. Proszę określić jak często załatwiał/a Pan/Pani poniższe sprawy w ostatnim miesiącu:.kościół'].value_counts(normalize=True).mul(100).round(2)"
   ]
  },
  {
   "cell_type": "code",
   "execution_count": null,
   "metadata": {
    "colab": {
     "base_uri": "https://localhost:8080/"
    },
    "id": "-rWO90Ekqgr8",
    "outputId": "61e4e73e-c92e-4cf5-e9d9-842e5ffc3d05"
   },
   "outputs": [
    {
     "data": {
      "text/plain": [
       "4.0    37.17\n",
       "6.0    24.24\n",
       "5.0    11.72\n",
       "7.0     9.70\n",
       "2.0     7.88\n",
       "3.0     6.26\n",
       "1.0     3.03\n",
       "Name: 3. Proszę określić jak często załatwiał/a Pan/Pani poniższe sprawy w ostatnim miesiącu:.odwiedziny u znajomych/rodziny, dtype: float64"
      ]
     },
     "execution_count": 285,
     "metadata": {},
     "output_type": "execute_result"
    }
   ],
   "source": [
    "df['3. Proszę określić jak często załatwiał/a Pan/Pani poniższe sprawy w ostatnim miesiącu:.odwiedziny u znajomych/rodziny'].value_counts(normalize=True).mul(100).round(2)"
   ]
  },
  {
   "cell_type": "code",
   "execution_count": null,
   "metadata": {
    "colab": {
     "base_uri": "https://localhost:8080/"
    },
    "id": "OpqC9iQ_qj6C",
    "outputId": "4007c383-b1da-4def-8b39-bc512221af5d"
   },
   "outputs": [
    {
     "data": {
      "text/plain": [
       "6.0    35.87\n",
       "5.0    28.06\n",
       "4.0    25.85\n",
       "7.0     9.02\n",
       "2.0     1.00\n",
       "1.0     0.20\n",
       "Name: 3. Proszę określić jak często załatwiał/a Pan/Pani poniższe sprawy w ostatnim miesiącu:.lekarz, dtype: float64"
      ]
     },
     "execution_count": 286,
     "metadata": {},
     "output_type": "execute_result"
    }
   ],
   "source": [
    "df['3. Proszę określić jak często załatwiał/a Pan/Pani poniższe sprawy w ostatnim miesiącu:.lekarz'].value_counts(normalize=True).mul(100).round(2)"
   ]
  },
  {
   "cell_type": "code",
   "execution_count": null,
   "metadata": {
    "colab": {
     "base_uri": "https://localhost:8080/"
    },
    "id": "PcWM8VIHqpA6",
    "outputId": "123b1067-8ba7-4451-a3b9-f9abbf6eac67"
   },
   "outputs": [
    {
     "data": {
      "text/plain": [
       "6.0    55.31\n",
       "7.0    17.84\n",
       "5.0    14.43\n",
       "4.0    10.82\n",
       "3.0     0.80\n",
       "2.0     0.40\n",
       "1.0     0.40\n",
       "Name: 3. Proszę określić jak często załatwiał/a Pan/Pani poniższe sprawy w ostatnim miesiącu:.rozrywka, kultura, dtype: float64"
      ]
     },
     "execution_count": 287,
     "metadata": {},
     "output_type": "execute_result"
    }
   ],
   "source": [
    "df['3. Proszę określić jak często załatwiał/a Pan/Pani poniższe sprawy w ostatnim miesiącu:.rozrywka, kultura'].value_counts(normalize=True).mul(100).round(2)"
   ]
  },
  {
   "cell_type": "code",
   "execution_count": null,
   "metadata": {
    "colab": {
     "base_uri": "https://localhost:8080/"
    },
    "id": "zeCvXUogqvd8",
    "outputId": "0add8537-0c88-47fa-892b-f4fe64a8c9b1"
   },
   "outputs": [
    {
     "data": {
      "text/plain": [
       "5    46.6\n",
       "6    31.6\n",
       "7    13.2\n",
       "4     8.4\n",
       "3     0.2\n",
       "Name: 3. Proszę określić jak często załatwiał/a Pan/Pani poniższe sprawy w ostatnim miesiącu:.fryzjer/kosmetyczka, dtype: float64"
      ]
     },
     "execution_count": 288,
     "metadata": {},
     "output_type": "execute_result"
    }
   ],
   "source": [
    "df['3. Proszę określić jak często załatwiał/a Pan/Pani poniższe sprawy w ostatnim miesiącu:.fryzjer/kosmetyczka'].value_counts(normalize=True).mul(100).round(2)"
   ]
  },
  {
   "cell_type": "code",
   "execution_count": null,
   "metadata": {
    "colab": {
     "base_uri": "https://localhost:8080/"
    },
    "id": "0jRdyrBepztP",
    "outputId": "78927b14-3205-4574-800d-754431c20457"
   },
   "outputs": [
    {
     "data": {
      "text/plain": [
       "7    66.0\n",
       "6    25.2\n",
       "5     4.0\n",
       "4     3.4\n",
       "2     1.2\n",
       "1     0.2\n",
       "Name: 3. Proszę określić jak często załatwiał/a Pan/Pani poniższe sprawy w ostatnim miesiącu:.szkolenia/warsztaty/rozwijanie umiejętności (np. klub seniora), dtype: float64"
      ]
     },
     "execution_count": 289,
     "metadata": {},
     "output_type": "execute_result"
    }
   ],
   "source": [
    "df['3. Proszę określić jak często załatwiał/a Pan/Pani poniższe sprawy w ostatnim miesiącu:.szkolenia/warsztaty/rozwijanie umiejętności (np. klub seniora)'].value_counts(normalize=True).mul(100).round(2)"
   ]
  },
  {
   "cell_type": "code",
   "execution_count": null,
   "metadata": {
    "colab": {
     "base_uri": "https://localhost:8080/"
    },
    "id": "igqbGE1zqihq",
    "outputId": "8fc3f507-f3aa-49c1-c0a0-60f67a5bccf8"
   },
   "outputs": [
    {
     "data": {
      "text/plain": [
       "7    84.4\n",
       "6    15.6\n",
       "Name: 3. Proszę określić jak często załatwiał/a Pan/Pani poniższe sprawy w ostatnim miesiącu:.dzienny dom pomocy społecznej/ dom dziennego pobytu, dtype: float64"
      ]
     },
     "execution_count": 290,
     "metadata": {},
     "output_type": "execute_result"
    }
   ],
   "source": [
    "df['3. Proszę określić jak często załatwiał/a Pan/Pani poniższe sprawy w ostatnim miesiącu:.dzienny dom pomocy społecznej/ dom dziennego pobytu'].value_counts(normalize=True).mul(100).round(2)"
   ]
  },
  {
   "cell_type": "markdown",
   "metadata": {
    "id": "azq9VxPqrbTI"
   },
   "source": [
    "Z powyższych pytań wykluczamy pytania, gdzie odpowiedź 7 (nie dotyczy) stanowi więcej niż 70%. Resztę pytań łączymy do jednej tabeli i wyświetlamy średnią z każdej odpowiedzi w każdym klastrze."
   ]
  },
  {
   "cell_type": "code",
   "execution_count": null,
   "metadata": {
    "colab": {
     "base_uri": "https://localhost:8080/"
    },
    "id": "JqHN1WjHrufK",
    "outputId": "507935c9-9cc7-4e41-b687-0876f18d3225"
   },
   "outputs": [
    {
     "data": {
      "text/plain": [
       "Cluster  Odpowiedź\n",
       "0        6.0          30.08\n",
       "         7.0          21.81\n",
       "         4.0          15.97\n",
       "         5.0          14.95\n",
       "         2.0           8.21\n",
       "         3.0           4.87\n",
       "         1.0           4.11\n",
       "1        6.0          28.21\n",
       "         7.0          24.98\n",
       "         5.0          15.44\n",
       "         4.0          14.21\n",
       "         2.0           8.17\n",
       "         1.0           5.35\n",
       "         3.0           3.64\n",
       "2        6.0          30.49\n",
       "         7.0          26.24\n",
       "         5.0          13.94\n",
       "         4.0          13.39\n",
       "         2.0           7.42\n",
       "         3.0           4.88\n",
       "         1.0           3.64\n",
       "Name: Odpowiedź, dtype: float64"
      ]
     },
     "execution_count": 337,
     "metadata": {},
     "output_type": "execute_result"
    }
   ],
   "source": [
    "df_pyt3 = df.melt(id_vars=['Cluster'], value_vars=[\n",
    "    '3. Proszę określić jak często załatwiał/a Pan/Pani poniższe sprawy w ostatnim miesiącu:.zakupy codzienne (spożywcze)', \n",
    "    '3. Proszę określić jak często załatwiał/a Pan/Pani poniższe sprawy w ostatnim miesiącu:.sprawy urzędowe', \n",
    "    '3. Proszę określić jak często załatwiał/a Pan/Pani poniższe sprawy w ostatnim miesiącu:.kościół',\n",
    "    '3. Proszę określić jak często załatwiał/a Pan/Pani poniższe sprawy w ostatnim miesiącu:.odwiedziny u znajomych/rodziny',\n",
    "    '3. Proszę określić jak często załatwiał/a Pan/Pani poniższe sprawy w ostatnim miesiącu:.lekarz',\n",
    "    '3. Proszę określić jak często załatwiał/a Pan/Pani poniższe sprawy w ostatnim miesiącu:.rozrywka, kultura',\n",
    "    '3. Proszę określić jak często załatwiał/a Pan/Pani poniższe sprawy w ostatnim miesiącu:.fryzjer/kosmetyczka',\n",
    "    '3. Proszę określić jak często załatwiał/a Pan/Pani poniższe sprawy w ostatnim miesiącu:.praca',\n",
    "    '3. Proszę określić jak często załatwiał/a Pan/Pani poniższe sprawy w ostatnim miesiącu:.szkolenia/warsztaty/rozwijanie umiejętności (np. klub seniora)'\n",
    "    ], var_name='Kolumna', value_name='Odpowiedź')\n",
    "df_pyt3.groupby('Cluster')['Odpowiedź'].value_counts(normalize=True).mul(100).round(2)"
   ]
  },
  {
   "cell_type": "markdown",
   "metadata": {
    "id": "w0rUJO6LyiZD"
   },
   "source": [
    "**Pytanie 5**"
   ]
  },
  {
   "cell_type": "markdown",
   "metadata": {
    "id": "9qEYeVWbykYU"
   },
   "source": [
    "W pytaniu 5:\n",
    "* 0: odmowa odpowiedzi\n",
    "* 1: do 250 metrów;\n",
    "* 2: 250-500 metrów;\n",
    "* 3: 500-1000 metrów;\n",
    "* 4: powyżej 1000 metrów."
   ]
  },
  {
   "cell_type": "code",
   "execution_count": null,
   "metadata": {
    "colab": {
     "base_uri": "https://localhost:8080/"
    },
    "id": "5LTQk2MSy3Uf",
    "outputId": "5e58dedf-fc56-4a1b-b445-6294674afb47"
   },
   "outputs": [
    {
     "data": {
      "text/plain": [
       "0.0    77.53\n",
       "4.0    14.98\n",
       "1.0     3.24\n",
       "2.0     3.04\n",
       "3.0     1.21\n",
       "Name: 5. Proszę określić jaką średnią odległość (w jedną stronę) pokonywał/a Pan/Pani w ostatnim miesiącu, aby załatwić poniższe sprawy (dotyczy jednorazowego wyjścia z domu):.1, dtype: float64"
      ]
     },
     "execution_count": 292,
     "metadata": {},
     "output_type": "execute_result"
    }
   ],
   "source": [
    "df['5. Proszę określić jaką średnią odległość (w jedną stronę) pokonywał/a Pan/Pani w ostatnim miesiącu, aby załatwić poniższe sprawy (dotyczy jednorazowego wyjścia z domu):.1'].value_counts(normalize=True).mul(100).round(2)"
   ]
  },
  {
   "cell_type": "code",
   "execution_count": null,
   "metadata": {
    "colab": {
     "base_uri": "https://localhost:8080/"
    },
    "id": "2O7594Zhy8Tg",
    "outputId": "afe97fa5-a5ba-404d-f96b-02debad35d6e"
   },
   "outputs": [
    {
     "data": {
      "text/plain": [
       "1.0    29.49\n",
       "4.0    23.03\n",
       "2.0    21.62\n",
       "3.0    13.13\n",
       "0.0    12.73\n",
       "Name: 5. Proszę określić jaką średnią odległość (w jedną stronę) pokonywał/a Pan/Pani w ostatnim miesiącu, aby załatwić poniższe sprawy (dotyczy jednorazowego wyjścia z domu):.2, dtype: float64"
      ]
     },
     "execution_count": 293,
     "metadata": {},
     "output_type": "execute_result"
    }
   ],
   "source": [
    "df['5. Proszę określić jaką średnią odległość (w jedną stronę) pokonywał/a Pan/Pani w ostatnim miesiącu, aby załatwić poniższe sprawy (dotyczy jednorazowego wyjścia z domu):.2'].value_counts(normalize=True).mul(100).round(2)"
   ]
  },
  {
   "cell_type": "code",
   "execution_count": null,
   "metadata": {
    "colab": {
     "base_uri": "https://localhost:8080/"
    },
    "id": "cClpog0hy8oY",
    "outputId": "0bbc3e27-1e06-462b-f995-9740778096d7"
   },
   "outputs": [
    {
     "data": {
      "text/plain": [
       "0.0    64.11\n",
       "4.0    15.12\n",
       "2.0     8.87\n",
       "3.0     7.86\n",
       "1.0     4.03\n",
       "Name: 5. Proszę określić jaką średnią odległość (w jedną stronę) pokonywał/a Pan/Pani w ostatnim miesiącu, aby załatwić poniższe sprawy (dotyczy jednorazowego wyjścia z domu):.3, dtype: float64"
      ]
     },
     "execution_count": 294,
     "metadata": {},
     "output_type": "execute_result"
    }
   ],
   "source": [
    "df['5. Proszę określić jaką średnią odległość (w jedną stronę) pokonywał/a Pan/Pani w ostatnim miesiącu, aby załatwić poniższe sprawy (dotyczy jednorazowego wyjścia z domu):.3'].value_counts(normalize=True).mul(100).round(2)"
   ]
  },
  {
   "cell_type": "code",
   "execution_count": null,
   "metadata": {
    "colab": {
     "base_uri": "https://localhost:8080/"
    },
    "id": "yVXv_navy87f",
    "outputId": "0005bb12-78dd-45e9-842a-87b6afe3a1ba"
   },
   "outputs": [
    {
     "data": {
      "text/plain": [
       "0.0    46.18\n",
       "2.0    15.86\n",
       "4.0    15.06\n",
       "3.0    12.25\n",
       "1.0    10.64\n",
       "Name: 5. Proszę określić jaką średnią odległość (w jedną stronę) pokonywał/a Pan/Pani w ostatnim miesiącu, aby załatwić poniższe sprawy (dotyczy jednorazowego wyjścia z domu):.4, dtype: float64"
      ]
     },
     "execution_count": 295,
     "metadata": {},
     "output_type": "execute_result"
    }
   ],
   "source": [
    "df['5. Proszę określić jaką średnią odległość (w jedną stronę) pokonywał/a Pan/Pani w ostatnim miesiącu, aby załatwić poniższe sprawy (dotyczy jednorazowego wyjścia z domu):.4'].value_counts(normalize=True).mul(100).round(2)"
   ]
  },
  {
   "cell_type": "code",
   "execution_count": null,
   "metadata": {
    "colab": {
     "base_uri": "https://localhost:8080/"
    },
    "id": "s45G4RjPy9Oo",
    "outputId": "9220cfda-24a5-4dcb-d8cd-e444e8a6666d"
   },
   "outputs": [
    {
     "data": {
      "text/plain": [
       "4.0    43.76\n",
       "0.0    35.38\n",
       "1.0     8.18\n",
       "2.0     6.34\n",
       "3.0     6.34\n",
       "Name: 5. Proszę określić jaką średnią odległość (w jedną stronę) pokonywał/a Pan/Pani w ostatnim miesiącu, aby załatwić poniższe sprawy (dotyczy jednorazowego wyjścia z domu):.5, dtype: float64"
      ]
     },
     "execution_count": 296,
     "metadata": {},
     "output_type": "execute_result"
    }
   ],
   "source": [
    "df['5. Proszę określić jaką średnią odległość (w jedną stronę) pokonywał/a Pan/Pani w ostatnim miesiącu, aby załatwić poniższe sprawy (dotyczy jednorazowego wyjścia z domu):.5'].value_counts(normalize=True).mul(100).round(2)"
   ]
  },
  {
   "cell_type": "code",
   "execution_count": null,
   "metadata": {
    "colab": {
     "base_uri": "https://localhost:8080/"
    },
    "id": "KXWk-pbny9lM",
    "outputId": "fbd5aa8b-a806-40dd-8445-a583fc64a552"
   },
   "outputs": [
    {
     "data": {
      "text/plain": [
       "0.0    45.18\n",
       "4.0    27.71\n",
       "2.0     9.64\n",
       "3.0     9.04\n",
       "1.0     8.43\n",
       "Name: 5. Proszę określić jaką średnią odległość (w jedną stronę) pokonywał/a Pan/Pani w ostatnim miesiącu, aby załatwić poniższe sprawy (dotyczy jednorazowego wyjścia z domu):.6, dtype: float64"
      ]
     },
     "execution_count": 297,
     "metadata": {},
     "output_type": "execute_result"
    }
   ],
   "source": [
    "df['5. Proszę określić jaką średnią odległość (w jedną stronę) pokonywał/a Pan/Pani w ostatnim miesiącu, aby załatwić poniższe sprawy (dotyczy jednorazowego wyjścia z domu):.6'].value_counts(normalize=True).mul(100).round(2)"
   ]
  },
  {
   "cell_type": "code",
   "execution_count": null,
   "metadata": {
    "colab": {
     "base_uri": "https://localhost:8080/"
    },
    "id": "Hp1Zhc9ry91v",
    "outputId": "57282f2f-546f-40c3-dbe0-0410b209c788"
   },
   "outputs": [
    {
     "data": {
      "text/plain": [
       "0.0    73.64\n",
       "4.0    20.72\n",
       "3.0     2.82\n",
       "2.0     1.41\n",
       "1.0     1.41\n",
       "Name: 5. Proszę określić jaką średnią odległość (w jedną stronę) pokonywał/a Pan/Pani w ostatnim miesiącu, aby załatwić poniższe sprawy (dotyczy jednorazowego wyjścia z domu):.7, dtype: float64"
      ]
     },
     "execution_count": 298,
     "metadata": {},
     "output_type": "execute_result"
    }
   ],
   "source": [
    "df['5. Proszę określić jaką średnią odległość (w jedną stronę) pokonywał/a Pan/Pani w ostatnim miesiącu, aby załatwić poniższe sprawy (dotyczy jednorazowego wyjścia z domu):.7'].value_counts(normalize=True).mul(100).round(2)"
   ]
  },
  {
   "cell_type": "code",
   "execution_count": null,
   "metadata": {
    "colab": {
     "base_uri": "https://localhost:8080/"
    },
    "id": "FzoSQVyqy-HV",
    "outputId": "1b3ddf8b-70f2-440e-a07b-155bc2f16e8e"
   },
   "outputs": [
    {
     "data": {
      "text/plain": [
       "0.0    45.25\n",
       "4.0    16.57\n",
       "1.0    15.56\n",
       "2.0    12.93\n",
       "3.0     9.70\n",
       "Name: 5. Proszę określić jaką średnią odległość (w jedną stronę) pokonywał/a Pan/Pani w ostatnim miesiącu, aby załatwić poniższe sprawy (dotyczy jednorazowego wyjścia z domu):.8, dtype: float64"
      ]
     },
     "execution_count": 299,
     "metadata": {},
     "output_type": "execute_result"
    }
   ],
   "source": [
    "df['5. Proszę określić jaką średnią odległość (w jedną stronę) pokonywał/a Pan/Pani w ostatnim miesiącu, aby załatwić poniższe sprawy (dotyczy jednorazowego wyjścia z domu):.8'].value_counts(normalize=True).mul(100).round(2)"
   ]
  },
  {
   "cell_type": "markdown",
   "metadata": {
    "id": "-tuRTt-1zMcx"
   },
   "source": [
    "Wybieramy te pytania, gdzie odpowiedź 0 stanowi mniej niż 70% odpowiedzi. Resztę pytań łączymy do jednej tabeli i wyświetlamy średnią z każdej odpowiedzi w każdym klastrze. Pomijamy wartość 0 - brak odpowiedzi."
   ]
  },
  {
   "cell_type": "code",
   "execution_count": null,
   "metadata": {
    "colab": {
     "base_uri": "https://localhost:8080/"
    },
    "id": "XQIOC6UVzO_V",
    "outputId": "f025a5a0-67ff-4980-e39d-99d6de5e31b9"
   },
   "outputs": [
    {
     "data": {
      "text/plain": [
       "Cluster  Odpowiedź\n",
       "0        4.0          40.89\n",
       "         2.0          22.52\n",
       "         1.0          22.36\n",
       "         3.0          14.22\n",
       "1        4.0          43.16\n",
       "         2.0          20.60\n",
       "         3.0          19.54\n",
       "         1.0          16.70\n",
       "2        4.0          36.25\n",
       "         1.0          26.23\n",
       "         2.0          21.13\n",
       "         3.0          16.39\n",
       "Name: Odpowiedź, dtype: float64"
      ]
     },
     "execution_count": 334,
     "metadata": {},
     "output_type": "execute_result"
    }
   ],
   "source": [
    "df_pyt5 = df.melt(id_vars=['Cluster'], value_vars=[\n",
    "    '5. Proszę określić jaką średnią odległość (w jedną stronę) pokonywał/a Pan/Pani w ostatnim miesiącu, aby załatwić poniższe sprawy (dotyczy jednorazowego wyjścia z domu):.2',\n",
    "    '5. Proszę określić jaką średnią odległość (w jedną stronę) pokonywał/a Pan/Pani w ostatnim miesiącu, aby załatwić poniższe sprawy (dotyczy jednorazowego wyjścia z domu):.4',\n",
    "    '5. Proszę określić jaką średnią odległość (w jedną stronę) pokonywał/a Pan/Pani w ostatnim miesiącu, aby załatwić poniższe sprawy (dotyczy jednorazowego wyjścia z domu):.5',\n",
    "    '5. Proszę określić jaką średnią odległość (w jedną stronę) pokonywał/a Pan/Pani w ostatnim miesiącu, aby załatwić poniższe sprawy (dotyczy jednorazowego wyjścia z domu):.6',\n",
    "    '5. Proszę określić jaką średnią odległość (w jedną stronę) pokonywał/a Pan/Pani w ostatnim miesiącu, aby załatwić poniższe sprawy (dotyczy jednorazowego wyjścia z domu):.8',\n",
    "    '5. Proszę określić jaką średnią odległość (w jedną stronę) pokonywał/a Pan/Pani w ostatnim miesiącu, aby załatwić poniższe sprawy (dotyczy jednorazowego wyjścia z domu):.3'\n",
    "    ], var_name='Kolumna', value_name='Odpowiedź')\n",
    "df_pyt5 = df_pyt5[df_pyt5['Odpowiedź'] != 0.0]\n",
    "df_pyt5.groupby('Cluster')['Odpowiedź'].value_counts(normalize=True).mul(100).round(2)"
   ]
  },
  {
   "cell_type": "markdown",
   "metadata": {
    "id": "AiHDgq9Esod3"
   },
   "source": [
    "**Pytanie 6**"
   ]
  },
  {
   "cell_type": "markdown",
   "metadata": {
    "id": "QnLq9GUShZmi"
   },
   "source": [
    "W pytaniu 6:\n",
    "* 0: odmowa odpowiedzi\n",
    "* 1: do 5 minut;\n",
    "* 2: 5-10 minut;\n",
    "* 3: 10-20 minut;\n",
    "* 4: powyżej 20 minut."
   ]
  },
  {
   "cell_type": "code",
   "execution_count": null,
   "metadata": {
    "colab": {
     "base_uri": "https://localhost:8080/"
    },
    "id": "G0uSgOKSs-kV",
    "outputId": "7eb017ad-a403-44ec-e7d8-f3790502a9f7"
   },
   "outputs": [
    {
     "data": {
      "text/plain": [
       "0.0    77.85\n",
       "4.0     6.30\n",
       "1.0     5.89\n",
       "2.0     5.28\n",
       "3.0     4.67\n",
       "Name: 6. Proszę określić ile czasu w ostatnim miesiącu średnio zajmowała Panu/Pani droga w jedną stronę aby załatwić poniższe sprawy (dotyczy jednorazowego wyjścia z domu):.praca, dtype: float64"
      ]
     },
     "execution_count": 301,
     "metadata": {},
     "output_type": "execute_result"
    }
   ],
   "source": [
    "df['6. Proszę określić ile czasu w ostatnim miesiącu średnio zajmowała Panu/Pani droga w jedną stronę aby załatwić poniższe sprawy (dotyczy jednorazowego wyjścia z domu):.praca'].value_counts(normalize=True).mul(100).round(2)"
   ]
  },
  {
   "cell_type": "code",
   "execution_count": null,
   "metadata": {
    "colab": {
     "base_uri": "https://localhost:8080/"
    },
    "id": "2ISKuv6atESO",
    "outputId": "4cbe2130-d56c-4e6f-92b8-98b36be2dd1f"
   },
   "outputs": [
    {
     "data": {
      "text/plain": [
       "2.0    30.82\n",
       "1.0    28.16\n",
       "3.0    16.53\n",
       "0.0    12.86\n",
       "4.0    11.63\n",
       "Name: 6. Proszę określić ile czasu w ostatnim miesiącu średnio zajmowała Panu/Pani droga w jedną stronę aby załatwić poniższe sprawy (dotyczy jednorazowego wyjścia z domu):.zakupy codzienne (spożywcze), dtype: float64"
      ]
     },
     "execution_count": 302,
     "metadata": {},
     "output_type": "execute_result"
    }
   ],
   "source": [
    "df['6. Proszę określić ile czasu w ostatnim miesiącu średnio zajmowała Panu/Pani droga w jedną stronę aby załatwić poniższe sprawy (dotyczy jednorazowego wyjścia z domu):.zakupy codzienne (spożywcze)'].value_counts(normalize=True).mul(100).round(2)"
   ]
  },
  {
   "cell_type": "code",
   "execution_count": null,
   "metadata": {
    "colab": {
     "base_uri": "https://localhost:8080/"
    },
    "id": "acpAAmo8tEk4",
    "outputId": "de7eb886-6291-4f11-ec2b-c2c48659ad69"
   },
   "outputs": [
    {
     "data": {
      "text/plain": [
       "0.0    64.37\n",
       "3.0    12.55\n",
       "2.0    11.94\n",
       "4.0     6.88\n",
       "1.0     4.25\n",
       "Name: 6. Proszę określić ile czasu w ostatnim miesiącu średnio zajmowała Panu/Pani droga w jedną stronę aby załatwić poniższe sprawy (dotyczy jednorazowego wyjścia z domu):.sprawy urzędowe, dtype: float64"
      ]
     },
     "execution_count": 303,
     "metadata": {},
     "output_type": "execute_result"
    }
   ],
   "source": [
    "df['6. Proszę określić ile czasu w ostatnim miesiącu średnio zajmowała Panu/Pani droga w jedną stronę aby załatwić poniższe sprawy (dotyczy jednorazowego wyjścia z domu):.sprawy urzędowe'].value_counts(normalize=True).mul(100).round(2)"
   ]
  },
  {
   "cell_type": "code",
   "execution_count": null,
   "metadata": {
    "colab": {
     "base_uri": "https://localhost:8080/"
    },
    "id": "lbYA34uCtE7a",
    "outputId": "bf4d0f39-8905-4cfd-bef7-a2993710c092"
   },
   "outputs": [
    {
     "data": {
      "text/plain": [
       "0.0    46.37\n",
       "2.0    20.16\n",
       "1.0    15.93\n",
       "3.0    11.69\n",
       "4.0     5.85\n",
       "Name: 6. Proszę określić ile czasu w ostatnim miesiącu średnio zajmowała Panu/Pani droga w jedną stronę aby załatwić poniższe sprawy (dotyczy jednorazowego wyjścia z domu):.kościół, dtype: float64"
      ]
     },
     "execution_count": 304,
     "metadata": {},
     "output_type": "execute_result"
    }
   ],
   "source": [
    "df['6. Proszę określić ile czasu w ostatnim miesiącu średnio zajmowała Panu/Pani droga w jedną stronę aby załatwić poniższe sprawy (dotyczy jednorazowego wyjścia z domu):.kościół'].value_counts(normalize=True).mul(100).round(2)"
   ]
  },
  {
   "cell_type": "code",
   "execution_count": null,
   "metadata": {
    "colab": {
     "base_uri": "https://localhost:8080/"
    },
    "id": "lO331g5_tFPc",
    "outputId": "8c8592a8-3b37-45e0-82f4-d95855aa567e"
   },
   "outputs": [
    {
     "data": {
      "text/plain": [
       "0.0    35.74\n",
       "4.0    29.75\n",
       "3.0    16.32\n",
       "2.0    11.36\n",
       "1.0     6.82\n",
       "Name: 6. Proszę określić ile czasu w ostatnim miesiącu średnio zajmowała Panu/Pani droga w jedną stronę aby załatwić poniższe sprawy (dotyczy jednorazowego wyjścia z domu):.odwiedziny u znajomych/rodziny, dtype: float64"
      ]
     },
     "execution_count": 305,
     "metadata": {},
     "output_type": "execute_result"
    }
   ],
   "source": [
    "df['6. Proszę określić ile czasu w ostatnim miesiącu średnio zajmowała Panu/Pani droga w jedną stronę aby załatwić poniższe sprawy (dotyczy jednorazowego wyjścia z domu):.odwiedziny u znajomych/rodziny'].value_counts(normalize=True).mul(100).round(2)"
   ]
  },
  {
   "cell_type": "code",
   "execution_count": null,
   "metadata": {
    "colab": {
     "base_uri": "https://localhost:8080/"
    },
    "id": "knkJf5UntFhy",
    "outputId": "e6175efc-f781-405c-8765-a0e88f9267ba"
   },
   "outputs": [
    {
     "data": {
      "text/plain": [
       "0.0    45.73\n",
       "2.0    17.48\n",
       "4.0    14.84\n",
       "3.0    13.21\n",
       "1.0     8.74\n",
       "Name: 6. Proszę określić ile czasu w ostatnim miesiącu średnio zajmowała Panu/Pani droga w jedną stronę aby załatwić poniższe sprawy (dotyczy jednorazowego wyjścia z domu):.lekarz, dtype: float64"
      ]
     },
     "execution_count": 306,
     "metadata": {},
     "output_type": "execute_result"
    }
   ],
   "source": [
    "df['6. Proszę określić ile czasu w ostatnim miesiącu średnio zajmowała Panu/Pani droga w jedną stronę aby załatwić poniższe sprawy (dotyczy jednorazowego wyjścia z domu):.lekarz'].value_counts(normalize=True).mul(100).round(2)"
   ]
  },
  {
   "cell_type": "code",
   "execution_count": null,
   "metadata": {
    "colab": {
     "base_uri": "https://localhost:8080/"
    },
    "id": "_--j9R0dtF1x",
    "outputId": "fbe827bb-c0d2-4f5e-d794-793baedc82ef"
   },
   "outputs": [
    {
     "data": {
      "text/plain": [
       "0.0    73.94\n",
       "4.0    17.37\n",
       "3.0     4.65\n",
       "2.0     2.42\n",
       "1.0     1.62\n",
       "Name: 6. Proszę określić ile czasu w ostatnim miesiącu średnio zajmowała Panu/Pani droga w jedną stronę aby załatwić poniższe sprawy (dotyczy jednorazowego wyjścia z domu):.rozrywka, kultura, dtype: float64"
      ]
     },
     "execution_count": 307,
     "metadata": {},
     "output_type": "execute_result"
    }
   ],
   "source": [
    "df['6. Proszę określić ile czasu w ostatnim miesiącu średnio zajmowała Panu/Pani droga w jedną stronę aby załatwić poniższe sprawy (dotyczy jednorazowego wyjścia z domu):.rozrywka, kultura'].value_counts(normalize=True).mul(100).round(2)"
   ]
  },
  {
   "cell_type": "code",
   "execution_count": null,
   "metadata": {
    "colab": {
     "base_uri": "https://localhost:8080/"
    },
    "id": "G_SOj0AjtGIa",
    "outputId": "d4fd6069-d5d1-42b2-faca-001c8a173dda"
   },
   "outputs": [
    {
     "data": {
      "text/plain": [
       "0.0    45.44\n",
       "1.0    16.84\n",
       "2.0    16.84\n",
       "3.0    13.59\n",
       "4.0     7.30\n",
       "Name: 6. Proszę określić ile czasu w ostatnim miesiącu średnio zajmowała Panu/Pani droga w jedną stronę aby załatwić poniższe sprawy (dotyczy jednorazowego wyjścia z domu):.fryzjer/kosmetyczka, dtype: float64"
      ]
     },
     "execution_count": 308,
     "metadata": {},
     "output_type": "execute_result"
    }
   ],
   "source": [
    "df['6. Proszę określić ile czasu w ostatnim miesiącu średnio zajmowała Panu/Pani droga w jedną stronę aby załatwić poniższe sprawy (dotyczy jednorazowego wyjścia z domu):.fryzjer/kosmetyczka'].value_counts(normalize=True).mul(100).round(2)"
   ]
  },
  {
   "cell_type": "markdown",
   "metadata": {
    "id": "FR1v7q7nyCVi"
   },
   "source": [
    "Wybieramy te pytania, gdzie odpowiedź 0 stanowi mniej niż 70% odpowiedzi. Resztę pytań łączymy do jednej tabeli i wyświetlamy średnią z każdej odpowiedzi w każdym klastrze. Pomijamy wartość 0 - brak odpowiedzi.\n"
   ]
  },
  {
   "cell_type": "code",
   "execution_count": null,
   "metadata": {
    "colab": {
     "base_uri": "https://localhost:8080/"
    },
    "id": "NXaCzlnyoRdq",
    "outputId": "ee71ea00-10f4-4fda-8bdb-fabaa7376b23"
   },
   "outputs": [
    {
     "data": {
      "text/plain": [
       "Cluster  Odpowiedź\n",
       "0        2.0          28.57\n",
       "         1.0          25.32\n",
       "         3.0          25.00\n",
       "         4.0          21.10\n",
       "1        2.0          36.02\n",
       "         4.0          23.66\n",
       "         3.0          22.76\n",
       "         1.0          17.56\n",
       "2        2.0          28.97\n",
       "         1.0          26.38\n",
       "         3.0          24.17\n",
       "         4.0          20.48\n",
       "Name: Odpowiedź, dtype: float64"
      ]
     },
     "execution_count": 333,
     "metadata": {},
     "output_type": "execute_result"
    }
   ],
   "source": [
    "df_pyt6 = df.melt(id_vars=['Cluster'], value_vars=[\n",
    "    '6. Proszę określić ile czasu w ostatnim miesiącu średnio zajmowała Panu/Pani droga w jedną stronę aby załatwić poniższe sprawy (dotyczy jednorazowego wyjścia z domu):.zakupy codzienne (spożywcze)', \n",
    "    '6. Proszę określić ile czasu w ostatnim miesiącu średnio zajmowała Panu/Pani droga w jedną stronę aby załatwić poniższe sprawy (dotyczy jednorazowego wyjścia z domu):.kościół', \n",
    "    '6. Proszę określić ile czasu w ostatnim miesiącu średnio zajmowała Panu/Pani droga w jedną stronę aby załatwić poniższe sprawy (dotyczy jednorazowego wyjścia z domu):.odwiedziny u znajomych/rodziny', \n",
    "    '6. Proszę określić ile czasu w ostatnim miesiącu średnio zajmowała Panu/Pani droga w jedną stronę aby załatwić poniższe sprawy (dotyczy jednorazowego wyjścia z domu):.fryzjer/kosmetyczka',\n",
    "    '6. Proszę określić ile czasu w ostatnim miesiącu średnio zajmowała Panu/Pani droga w jedną stronę aby załatwić poniższe sprawy (dotyczy jednorazowego wyjścia z domu):.lekarz',\n",
    "    '6. Proszę określić ile czasu w ostatnim miesiącu średnio zajmowała Panu/Pani droga w jedną stronę aby załatwić poniższe sprawy (dotyczy jednorazowego wyjścia z domu):.sprawy urzędowe'\n",
    "    ], var_name='Kolumna', value_name='Odpowiedź')\n",
    "df_pyt6 = df_pyt6[df_pyt6['Odpowiedź'] != 0.0]\n",
    "df_pyt6.groupby('Cluster')['Odpowiedź'].value_counts(normalize=True).mul(100).round(2)"
   ]
  },
  {
   "cell_type": "markdown",
   "metadata": {
    "id": "lAkEaYNIzg_6"
   },
   "source": [
    "**Pytanie 7**"
   ]
  },
  {
   "cell_type": "markdown",
   "metadata": {
    "id": "YoxGdqLuzm3Y"
   },
   "source": [
    "W pytaniu 7:\n",
    "* 0: odmowa odpowiedzi\n",
    "* 1: do 15 minut;\n",
    "* 2: 15-30 minut;\n",
    "* 3: 30-60 minut;\n",
    "* 4: powyżej 1 godziny."
   ]
  },
  {
   "cell_type": "code",
   "execution_count": null,
   "metadata": {
    "colab": {
     "base_uri": "https://localhost:8080/"
    },
    "id": "leSdnrW5zz_t",
    "outputId": "80488b9e-9557-47fa-eaf2-286f3c62c892"
   },
   "outputs": [
    {
     "data": {
      "text/plain": [
       "0.0    77.37\n",
       "4.0    21.82\n",
       "2.0     0.61\n",
       "3.0     0.20\n",
       "Name: 7. Proszę określić ile czasu potrzebował/a Pan/Pani w ostatnim miesiącu na załatwienie poniższych spraw, nie licząc dojazdów (dotyczy jednorazowego wyjścia z domu)?.praca, dtype: float64"
      ]
     },
     "execution_count": 310,
     "metadata": {},
     "output_type": "execute_result"
    }
   ],
   "source": [
    "df['7. Proszę określić ile czasu potrzebował/a Pan/Pani w ostatnim miesiącu na załatwienie poniższych spraw, nie licząc dojazdów (dotyczy jednorazowego wyjścia z domu)?.praca'].value_counts(normalize=True).mul(100).round(2)"
   ]
  },
  {
   "cell_type": "code",
   "execution_count": null,
   "metadata": {
    "colab": {
     "base_uri": "https://localhost:8080/"
    },
    "id": "R_JO2m2zz5FN",
    "outputId": "216c6408-3cef-4cc0-b739-fbfc1b0976b9"
   },
   "outputs": [
    {
     "data": {
      "text/plain": [
       "2.0    36.91\n",
       "1.0    22.89\n",
       "3.0    21.44\n",
       "0.0    12.99\n",
       "4.0     5.77\n",
       "Name: 7. Proszę określić ile czasu potrzebował/a Pan/Pani w ostatnim miesiącu na załatwienie poniższych spraw, nie licząc dojazdów (dotyczy jednorazowego wyjścia z domu)?.zakupy codzienne (spożywcze), dtype: float64"
      ]
     },
     "execution_count": 311,
     "metadata": {},
     "output_type": "execute_result"
    }
   ],
   "source": [
    "df['7. Proszę określić ile czasu potrzebował/a Pan/Pani w ostatnim miesiącu na załatwienie poniższych spraw, nie licząc dojazdów (dotyczy jednorazowego wyjścia z domu)?.zakupy codzienne (spożywcze)'].value_counts(normalize=True).mul(100).round(2)"
   ]
  },
  {
   "cell_type": "code",
   "execution_count": null,
   "metadata": {
    "colab": {
     "base_uri": "https://localhost:8080/"
    },
    "id": "refOXk3Yz6Hd",
    "outputId": "94f9a3d2-ea21-4e0c-d0dd-d44230518dde"
   },
   "outputs": [
    {
     "data": {
      "text/plain": [
       "0.0    64.50\n",
       "2.0    13.18\n",
       "1.0    13.18\n",
       "3.0     7.10\n",
       "4.0     2.03\n",
       "Name: 7. Proszę określić ile czasu potrzebował/a Pan/Pani w ostatnim miesiącu na załatwienie poniższych spraw, nie licząc dojazdów (dotyczy jednorazowego wyjścia z domu)?.sprawy urzędowe, dtype: float64"
      ]
     },
     "execution_count": 312,
     "metadata": {},
     "output_type": "execute_result"
    }
   ],
   "source": [
    "df['7. Proszę określić ile czasu potrzebował/a Pan/Pani w ostatnim miesiącu na załatwienie poniższych spraw, nie licząc dojazdów (dotyczy jednorazowego wyjścia z domu)?.sprawy urzędowe'].value_counts(normalize=True).mul(100).round(2)"
   ]
  },
  {
   "cell_type": "code",
   "execution_count": null,
   "metadata": {
    "colab": {
     "base_uri": "https://localhost:8080/"
    },
    "id": "5tVzOKuTz61N",
    "outputId": "1619f4a0-9345-4405-a39a-9151ba8a68f8"
   },
   "outputs": [
    {
     "data": {
      "text/plain": [
       "3.0    50.40\n",
       "0.0    46.37\n",
       "4.0     2.62\n",
       "1.0     0.60\n",
       "Name: 7. Proszę określić ile czasu potrzebował/a Pan/Pani w ostatnim miesiącu na załatwienie poniższych spraw, nie licząc dojazdów (dotyczy jednorazowego wyjścia z domu)?.kościół, dtype: float64"
      ]
     },
     "execution_count": 313,
     "metadata": {},
     "output_type": "execute_result"
    }
   ],
   "source": [
    "df['7. Proszę określić ile czasu potrzebował/a Pan/Pani w ostatnim miesiącu na załatwienie poniższych spraw, nie licząc dojazdów (dotyczy jednorazowego wyjścia z domu)?.kościół'].value_counts(normalize=True).mul(100).round(2)"
   ]
  },
  {
   "cell_type": "code",
   "execution_count": null,
   "metadata": {
    "colab": {
     "base_uri": "https://localhost:8080/"
    },
    "id": "QDlJqNmJz7I7",
    "outputId": "27a242e6-e317-4081-e2c6-bee0c4fa2d94"
   },
   "outputs": [
    {
     "data": {
      "text/plain": [
       "4.0    57.38\n",
       "0.0    35.45\n",
       "3.0     4.71\n",
       "2.0     1.23\n",
       "1.0     1.23\n",
       "Name: 7. Proszę określić ile czasu potrzebował/a Pan/Pani w ostatnim miesiącu na załatwienie poniższych spraw, nie licząc dojazdów (dotyczy jednorazowego wyjścia z domu)?.odwiedziny u znajomych/rodziny, dtype: float64"
      ]
     },
     "execution_count": 314,
     "metadata": {},
     "output_type": "execute_result"
    }
   ],
   "source": [
    "df['7. Proszę określić ile czasu potrzebował/a Pan/Pani w ostatnim miesiącu na załatwienie poniższych spraw, nie licząc dojazdów (dotyczy jednorazowego wyjścia z domu)?.odwiedziny u znajomych/rodziny'].value_counts(normalize=True).mul(100).round(2)"
   ]
  },
  {
   "cell_type": "code",
   "execution_count": null,
   "metadata": {
    "colab": {
     "base_uri": "https://localhost:8080/"
    },
    "id": "WCG0LpdTz7ad",
    "outputId": "2cea899a-45f8-44ee-fa09-1e2d0eb6c5d1"
   },
   "outputs": [
    {
     "data": {
      "text/plain": [
       "0.0    46.30\n",
       "2.0    20.16\n",
       "3.0    13.17\n",
       "4.0    10.70\n",
       "1.0     9.67\n",
       "Name: 7. Proszę określić ile czasu potrzebował/a Pan/Pani w ostatnim miesiącu na załatwienie poniższych spraw, nie licząc dojazdów (dotyczy jednorazowego wyjścia z domu)?.lekarz, dtype: float64"
      ]
     },
     "execution_count": 315,
     "metadata": {},
     "output_type": "execute_result"
    }
   ],
   "source": [
    "df['7. Proszę określić ile czasu potrzebował/a Pan/Pani w ostatnim miesiącu na załatwienie poniższych spraw, nie licząc dojazdów (dotyczy jednorazowego wyjścia z domu)?.lekarz'].value_counts(normalize=True).mul(100).round(2)"
   ]
  },
  {
   "cell_type": "code",
   "execution_count": null,
   "metadata": {
    "colab": {
     "base_uri": "https://localhost:8080/"
    },
    "id": "qRFq40x7z7ql",
    "outputId": "ec3f9d63-44fc-4030-d73e-f8233122434c"
   },
   "outputs": [
    {
     "data": {
      "text/plain": [
       "0.0    73.64\n",
       "4.0    24.14\n",
       "3.0     1.21\n",
       "2.0     0.60\n",
       "1.0     0.40\n",
       "Name: 7. Proszę określić ile czasu potrzebował/a Pan/Pani w ostatnim miesiącu na załatwienie poniższych spraw, nie licząc dojazdów (dotyczy jednorazowego wyjścia z domu)?.rozrywka, kultura, dtype: float64"
      ]
     },
     "execution_count": 316,
     "metadata": {},
     "output_type": "execute_result"
    }
   ],
   "source": [
    "df['7. Proszę określić ile czasu potrzebował/a Pan/Pani w ostatnim miesiącu na załatwienie poniższych spraw, nie licząc dojazdów (dotyczy jednorazowego wyjścia z domu)?.rozrywka, kultura'].value_counts(normalize=True).mul(100).round(2)"
   ]
  },
  {
   "cell_type": "code",
   "execution_count": null,
   "metadata": {
    "colab": {
     "base_uri": "https://localhost:8080/"
    },
    "id": "oMxZUCVSz76y",
    "outputId": "943a4f3f-7b80-4c10-c1ce-17f6184f6159"
   },
   "outputs": [
    {
     "data": {
      "text/plain": [
       "0.0    45.34\n",
       "2.0    17.61\n",
       "3.0    16.19\n",
       "4.0    15.38\n",
       "1.0     5.47\n",
       "Name: 7. Proszę określić ile czasu potrzebował/a Pan/Pani w ostatnim miesiącu na załatwienie poniższych spraw, nie licząc dojazdów (dotyczy jednorazowego wyjścia z domu)?.fryzjer/kosmetyczka, dtype: float64"
      ]
     },
     "execution_count": 317,
     "metadata": {},
     "output_type": "execute_result"
    }
   ],
   "source": [
    "df['7. Proszę określić ile czasu potrzebował/a Pan/Pani w ostatnim miesiącu na załatwienie poniższych spraw, nie licząc dojazdów (dotyczy jednorazowego wyjścia z domu)?.fryzjer/kosmetyczka'].value_counts(normalize=True).mul(100).round(2)"
   ]
  },
  {
   "cell_type": "markdown",
   "metadata": {
    "id": "tblCqSTXDWd-"
   },
   "source": [
    "Wybieramy te pytania, gdzie odpowiedź 0 stanowi mniej niż 70% odpowiedzi. Resztę pytań łączymy do jednej tabeli i wyświetlamy średnią z każdej odpowiedzi w każdym klastrze. Pomijamy wartość 0 - brak odpowiedzi."
   ]
  },
  {
   "cell_type": "code",
   "execution_count": null,
   "metadata": {
    "colab": {
     "base_uri": "https://localhost:8080/"
    },
    "id": "7hLuvqcl0d4z",
    "outputId": "f98378f8-72f9-4b78-f775-d3df4e4707c3"
   },
   "outputs": [
    {
     "data": {
      "text/plain": [
       "Cluster  Odpowiedź\n",
       "0        3.0          32.52\n",
       "         4.0          28.13\n",
       "         2.0          25.53\n",
       "         1.0          13.82\n",
       "1        3.0          33.75\n",
       "         4.0          27.65\n",
       "         2.0          25.85\n",
       "         1.0          12.75\n",
       "2        3.0          31.28\n",
       "         2.0          24.95\n",
       "         4.0          24.58\n",
       "         1.0          19.18\n",
       "Name: Odpowiedź, dtype: float64"
      ]
     },
     "execution_count": 332,
     "metadata": {},
     "output_type": "execute_result"
    }
   ],
   "source": [
    "df_pyt7 = df.melt(id_vars=['Cluster'], value_vars=[\n",
    "    '7. Proszę określić ile czasu potrzebował/a Pan/Pani w ostatnim miesiącu na załatwienie poniższych spraw, nie licząc dojazdów (dotyczy jednorazowego wyjścia z domu)?.zakupy codzienne (spożywcze)', \n",
    "    '7. Proszę określić ile czasu potrzebował/a Pan/Pani w ostatnim miesiącu na załatwienie poniższych spraw, nie licząc dojazdów (dotyczy jednorazowego wyjścia z domu)?.kościół', \n",
    "    '7. Proszę określić ile czasu potrzebował/a Pan/Pani w ostatnim miesiącu na załatwienie poniższych spraw, nie licząc dojazdów (dotyczy jednorazowego wyjścia z domu)?.odwiedziny u znajomych/rodziny', \n",
    "    '7. Proszę określić ile czasu potrzebował/a Pan/Pani w ostatnim miesiącu na załatwienie poniższych spraw, nie licząc dojazdów (dotyczy jednorazowego wyjścia z domu)?.fryzjer/kosmetyczka',\n",
    "    '7. Proszę określić ile czasu potrzebował/a Pan/Pani w ostatnim miesiącu na załatwienie poniższych spraw, nie licząc dojazdów (dotyczy jednorazowego wyjścia z domu)?.lekarz',\n",
    "    '7. Proszę określić ile czasu potrzebował/a Pan/Pani w ostatnim miesiącu na załatwienie poniższych spraw, nie licząc dojazdów (dotyczy jednorazowego wyjścia z domu)?.sprawy urzędowe'\n",
    "    ], var_name='Kolumna', value_name='Odpowiedź')\n",
    "df_pyt7 = df_pyt7[df_pyt7['Odpowiedź'] != 0.0]\n",
    "df_pyt7.groupby('Cluster')['Odpowiedź'].value_counts(normalize=True).mul(100).round(2)"
   ]
  },
  {
   "cell_type": "markdown",
   "metadata": {
    "id": "YuZvV7TtQcE9"
   },
   "source": [
    "**Pytanie 8**:\n",
    "* -1: nie,\n",
    "* 1: tak,\n",
    "* 0: brak odpowiedzi. "
   ]
  },
  {
   "cell_type": "code",
   "execution_count": null,
   "metadata": {
    "colab": {
     "base_uri": "https://localhost:8080/"
    },
    "id": "ofxhQP44wzA0",
    "outputId": "336e34cc-6f5a-4d55-f43e-686cc28e0dbf"
   },
   "outputs": [
    {
     "data": {
      "text/plain": [
       "Cluster  8. Czy jest coś, co ogranicza Pana/Pani mobilność (możliwość swobodnego przemieszczania się  podróżowania)?\n",
       "0        -1                                                                                                             68.97\n",
       "          1                                                                                                             31.03\n",
       "1        -1                                                                                                             66.87\n",
       "          1                                                                                                             33.13\n",
       "2        -1                                                                                                             63.19\n",
       "          1                                                                                                             36.20\n",
       "          0                                                                                                              0.61\n",
       "Name: 8. Czy jest coś, co ogranicza Pana/Pani mobilność (możliwość swobodnego przemieszczania się  podróżowania)?, dtype: float64"
      ]
     },
     "execution_count": 319,
     "metadata": {},
     "output_type": "execute_result"
    }
   ],
   "source": [
    "df.groupby('Cluster')['8. Czy jest coś, co ogranicza Pana/Pani mobilność (możliwość swobodnego przemieszczania się  podróżowania)?'].value_counts(normalize=True).mul(100).round(2)"
   ]
  },
  {
   "cell_type": "markdown",
   "metadata": {
    "id": "m-iOuRzAQY1_"
   },
   "source": [
    "Pytanie 4."
   ]
  },
  {
   "cell_type": "code",
   "execution_count": null,
   "metadata": {
    "colab": {
     "base_uri": "https://localhost:8080/"
    },
    "id": "TypTuTGm24I4",
    "outputId": "81c59a5f-8eeb-4ae7-b0d9-b81cc755b91e"
   },
   "outputs": [
    {
     "name": "stderr",
     "output_type": "stream",
     "text": [
      "<ipython-input-320-2f8d57bceda9>:12: SettingWithCopyWarning: \n",
      "A value is trying to be set on a copy of a slice from a DataFrame.\n",
      "Try using .loc[row_indexer,col_indexer] = value instead\n",
      "\n",
      "See the caveats in the documentation: https://pandas.pydata.org/pandas-docs/stable/user_guide/indexing.html#returning-a-view-versus-a-copy\n",
      "  transport_fryzjer.loc[i, '4.fryzjer/kosmetyczka_brak odpowiedzi'] = 0\n"
     ]
    },
    {
     "data": {
      "text/plain": [
       "4.fryzjer/kosmetyczka_brak odpowiedzi                        45.2\n",
       "4.fryzjer/kosmetyczka_wyłącznie pieszo                       29.4\n",
       "4.fryzjer/kosmetyczka_samochód (jako kierowca)               17.0\n",
       "4.fryzjer/kosmetyczka_samochód (jako pasażer)                 3.6\n",
       "4.fryzjer/kosmetyczka_rower                                   3.4\n",
       "4.fryzjer/kosmetyczka_inne/więcej niż 1 środek transportu     1.0\n",
       "4.fryzjer/kosmetyczka_transport publiczny                     0.4\n",
       "Name: transport_fryzjer, dtype: float64"
      ]
     },
     "execution_count": 320,
     "metadata": {},
     "output_type": "execute_result"
    }
   ],
   "source": [
    "transport_fryzjer = df[['4.fryzjer/kosmetyczka_samochód (jako kierowca)', '4.fryzjer/kosmetyczka_wyłącznie pieszo', '4.fryzjer/kosmetyczka_rower', '4.fryzjer/kosmetyczka_transport publiczny','4.fryzjer/kosmetyczka_samochód (jako pasażer)', '4.fryzjer/kosmetyczka_inne/więcej niż 1 środek transportu']]\n",
    "\n",
    "for i in range(transport_fryzjer.shape[0]):\n",
    "    if (pd.to_numeric(transport_fryzjer['4.fryzjer/kosmetyczka_samochód (jako kierowca)'], errors='coerce').astype(float)[i] == 0) and \\\n",
    "       (pd.to_numeric(transport_fryzjer['4.fryzjer/kosmetyczka_wyłącznie pieszo'], errors='coerce').astype(float)[i] == 0) and \\\n",
    "       (pd.to_numeric(transport_fryzjer['4.fryzjer/kosmetyczka_rower'], errors='coerce').astype(float)[i] == 0) and \\\n",
    "       (pd.to_numeric(transport_fryzjer['4.fryzjer/kosmetyczka_transport publiczny'], errors='coerce').astype(float)[i] == 0) and \\\n",
    "       (pd.to_numeric(transport_fryzjer['4.fryzjer/kosmetyczka_samochód (jako pasażer)'], errors='coerce').astype(float)[i] == 0) and \\\n",
    "       (pd.to_numeric(transport_fryzjer['4.fryzjer/kosmetyczka_inne/więcej niż 1 środek transportu'], errors='coerce').astype(float)[i] == 0):\n",
    "        transport_fryzjer.loc[i, '4.fryzjer/kosmetyczka_brak odpowiedzi'] = 1\n",
    "    else:\n",
    "        transport_fryzjer.loc[i, '4.fryzjer/kosmetyczka_brak odpowiedzi'] = 0\n",
    "decoded_fryzjer = transport_fryzjer.idxmax(axis=1).astype('category')\n",
    "df = pd.concat([df, decoded_fryzjer], axis=1)\n",
    "df = df.rename(columns={0: 'transport_fryzjer'})\n",
    "df['transport_fryzjer'].value_counts(normalize=True).mul(100).round(2)"
   ]
  },
  {
   "cell_type": "code",
   "execution_count": null,
   "metadata": {
    "colab": {
     "base_uri": "https://localhost:8080/"
    },
    "id": "R3ciegTwsDmc",
    "outputId": "add70610-cc66-4994-dd75-fefe98b06c38"
   },
   "outputs": [
    {
     "name": "stderr",
     "output_type": "stream",
     "text": [
      "<ipython-input-321-9065a7e4efd9>:10: SettingWithCopyWarning: \n",
      "A value is trying to be set on a copy of a slice from a DataFrame.\n",
      "Try using .loc[row_indexer,col_indexer] = value instead\n",
      "\n",
      "See the caveats in the documentation: https://pandas.pydata.org/pandas-docs/stable/user_guide/indexing.html#returning-a-view-versus-a-copy\n",
      "  transport_szkolenia.loc[i, '4.szkolenia/warsztaty/rozwijanie umiejętności (np. klub seniora)_brak odpowiedzi'] = 1\n"
     ]
    },
    {
     "data": {
      "text/plain": [
       "4.szkolenia/warsztaty/rozwijanie umiejętności (np. klub seniora)_brak odpowiedzi                        91.2\n",
       "4.szkolenia/warsztaty/rozwijanie umiejętności (np. klub seniora)_wyłącznie pieszo                        4.4\n",
       "4.szkolenia/warsztaty/rozwijanie umiejętności (np. klub seniora)_samochód (jako kierowca)                2.2\n",
       "4.szkolenia/warsztaty/rozwijanie umiejętności (np. klub seniora)_samochód (jako pasażer)                 1.2\n",
       "4.szkolenia/warsztaty/rozwijanie umiejętności (np. klub seniora)_rower                                   0.6\n",
       "4.szkolenia/warsztaty/rozwijanie umiejętności (np. klub seniora)_inne/więcej niż 1 środek transportu     0.4\n",
       "Name: transport_szkolenia, dtype: float64"
      ]
     },
     "execution_count": 321,
     "metadata": {},
     "output_type": "execute_result"
    }
   ],
   "source": [
    "transport_szkolenia = df[['4.szkolenia/warsztaty/rozwijanie umiejętności (np. klub seniora)_samochód (jako kierowca)', '4.szkolenia/warsztaty/rozwijanie umiejętności (np. klub seniora)_wyłącznie pieszo', '4.szkolenia/warsztaty/rozwijanie umiejętności (np. klub seniora)_rower', '4.szkolenia/warsztaty/rozwijanie umiejętności (np. klub seniora)_transport publiczny','4.szkolenia/warsztaty/rozwijanie umiejętności (np. klub seniora)_samochód (jako pasażer)', '4.szkolenia/warsztaty/rozwijanie umiejętności (np. klub seniora)_inne/więcej niż 1 środek transportu']]\n",
    "\n",
    "for i in range(transport_szkolenia.shape[0]):\n",
    "    if (pd.to_numeric(transport_szkolenia['4.szkolenia/warsztaty/rozwijanie umiejętności (np. klub seniora)_samochód (jako kierowca)'], errors='coerce').astype(float)[i] == 0) and \\\n",
    "       (pd.to_numeric(transport_szkolenia['4.szkolenia/warsztaty/rozwijanie umiejętności (np. klub seniora)_wyłącznie pieszo'], errors='coerce').astype(float)[i] == 0) and \\\n",
    "       (pd.to_numeric(transport_szkolenia['4.szkolenia/warsztaty/rozwijanie umiejętności (np. klub seniora)_rower'], errors='coerce').astype(float)[i] == 0) and \\\n",
    "       (pd.to_numeric(transport_szkolenia['4.szkolenia/warsztaty/rozwijanie umiejętności (np. klub seniora)_transport publiczny'], errors='coerce').astype(float)[i] == 0) and \\\n",
    "       (pd.to_numeric(transport_szkolenia['4.szkolenia/warsztaty/rozwijanie umiejętności (np. klub seniora)_samochód (jako pasażer)'], errors='coerce').astype(float)[i] == 0) and \\\n",
    "       (pd.to_numeric(transport_szkolenia['4.szkolenia/warsztaty/rozwijanie umiejętności (np. klub seniora)_inne/więcej niż 1 środek transportu'], errors='coerce').astype(float)[i] == 0):\n",
    "        transport_szkolenia.loc[i, '4.szkolenia/warsztaty/rozwijanie umiejętności (np. klub seniora)_brak odpowiedzi'] = 1\n",
    "    else:\n",
    "        transport_szkolenia.loc[i, '4.szkolenia/warsztaty/rozwijanie umiejętności (np. klub seniora)_brak odpowiedzi'] = 0\n",
    "decoded_szkolenia = transport_szkolenia.idxmax(axis=1).astype('category')\n",
    "df = pd.concat([df, decoded_szkolenia], axis=1)\n",
    "df = df.rename(columns={0: 'transport_szkolenia'})\n",
    "df['transport_szkolenia'].value_counts(normalize=True).mul(100).round(2)"
   ]
  },
  {
   "cell_type": "code",
   "execution_count": null,
   "metadata": {
    "colab": {
     "base_uri": "https://localhost:8080/"
    },
    "id": "aiY4ginwshnB",
    "outputId": "a353d471-06ef-48f0-ac86-16d4917863f6"
   },
   "outputs": [
    {
     "name": "stderr",
     "output_type": "stream",
     "text": [
      "<ipython-input-322-0a1abd6ab5e6>:12: SettingWithCopyWarning: \n",
      "A value is trying to be set on a copy of a slice from a DataFrame.\n",
      "Try using .loc[row_indexer,col_indexer] = value instead\n",
      "\n",
      "See the caveats in the documentation: https://pandas.pydata.org/pandas-docs/stable/user_guide/indexing.html#returning-a-view-versus-a-copy\n",
      "  transport_zakupy.loc[i, '4.zakupy codzienne (spożywcze)_brak odpowiedzi'] = 0\n"
     ]
    },
    {
     "data": {
      "text/plain": [
       "4.zakupy codzienne (spożywcze)_wyłącznie pieszo                       36.2\n",
       "4.zakupy codzienne (spożywcze)_samochód (jako kierowca)               27.2\n",
       "4.zakupy codzienne (spożywcze)_brak odpowiedzi                        13.6\n",
       "4.zakupy codzienne (spożywcze)_rower                                  11.8\n",
       "4.zakupy codzienne (spożywcze)_samochód (jako pasażer)                 8.6\n",
       "4.zakupy codzienne (spożywcze)_inne/więcej niż 1 środek transportu     1.4\n",
       "4.zakupy codzienne (spożywcze)_transport publiczny                     1.2\n",
       "Name: transport_zakupy, dtype: float64"
      ]
     },
     "execution_count": 322,
     "metadata": {},
     "output_type": "execute_result"
    }
   ],
   "source": [
    "transport_zakupy = df[['4.zakupy codzienne (spożywcze)_samochód (jako kierowca)', '4.zakupy codzienne (spożywcze)_wyłącznie pieszo', '4.zakupy codzienne (spożywcze)_rower', '4.zakupy codzienne (spożywcze)_transport publiczny','4.zakupy codzienne (spożywcze)_samochód (jako pasażer)', '4.zakupy codzienne (spożywcze)_inne/więcej niż 1 środek transportu']]\n",
    "\n",
    "for i in range(transport_zakupy.shape[0]):\n",
    "    if (pd.to_numeric(transport_zakupy['4.zakupy codzienne (spożywcze)_samochód (jako kierowca)'], errors='coerce').astype(float)[i] == 0) and \\\n",
    "       (pd.to_numeric(transport_zakupy['4.zakupy codzienne (spożywcze)_wyłącznie pieszo'], errors='coerce').astype(float)[i] == 0) and \\\n",
    "       (pd.to_numeric(transport_zakupy['4.zakupy codzienne (spożywcze)_rower'], errors='coerce').astype(float)[i] == 0) and \\\n",
    "       (pd.to_numeric(transport_zakupy['4.zakupy codzienne (spożywcze)_transport publiczny'], errors='coerce').astype(float)[i] == 0) and \\\n",
    "       (pd.to_numeric(transport_zakupy['4.zakupy codzienne (spożywcze)_samochód (jako pasażer)'], errors='coerce').astype(float)[i] == 0) and \\\n",
    "       (pd.to_numeric(transport_zakupy['4.zakupy codzienne (spożywcze)_inne/więcej niż 1 środek transportu'], errors='coerce').astype(float)[i] == 0):\n",
    "        transport_zakupy.loc[i, '4.zakupy codzienne (spożywcze)_brak odpowiedzi'] = 1\n",
    "    else:\n",
    "        transport_zakupy.loc[i, '4.zakupy codzienne (spożywcze)_brak odpowiedzi'] = 0\n",
    "decoded_zakupy = transport_zakupy.idxmax(axis=1).astype('category')\n",
    "df = pd.concat([df, decoded_zakupy], axis=1)\n",
    "df = df.rename(columns={0: 'transport_zakupy'})\n",
    "df['transport_zakupy'].value_counts(normalize=True).mul(100).round(2)"
   ]
  },
  {
   "cell_type": "code",
   "execution_count": null,
   "metadata": {
    "colab": {
     "base_uri": "https://localhost:8080/"
    },
    "id": "uNt3gsLFtZz4",
    "outputId": "03923809-cc64-4780-c712-31317ae119af"
   },
   "outputs": [
    {
     "name": "stderr",
     "output_type": "stream",
     "text": [
      "<ipython-input-323-296862fd62e5>:10: SettingWithCopyWarning: \n",
      "A value is trying to be set on a copy of a slice from a DataFrame.\n",
      "Try using .loc[row_indexer,col_indexer] = value instead\n",
      "\n",
      "See the caveats in the documentation: https://pandas.pydata.org/pandas-docs/stable/user_guide/indexing.html#returning-a-view-versus-a-copy\n",
      "  transport_odwiedziny.loc[i, '4.odwiedziny u znajomych/rodziny_brak odpowiedzi'] = 1\n"
     ]
    },
    {
     "data": {
      "text/plain": [
       "4.odwiedziny u znajomych/rodziny_brak odpowiedzi                        35.8\n",
       "4.odwiedziny u znajomych/rodziny_samochód (jako kierowca)               27.4\n",
       "4.odwiedziny u znajomych/rodziny_wyłącznie pieszo                       18.4\n",
       "4.odwiedziny u znajomych/rodziny_samochód (jako pasażer)                 9.4\n",
       "4.odwiedziny u znajomych/rodziny_transport publiczny                     4.0\n",
       "4.odwiedziny u znajomych/rodziny_rower                                   2.8\n",
       "4.odwiedziny u znajomych/rodziny_inne/więcej niż 1 środek transportu     2.2\n",
       "Name: transport_odwiedziny, dtype: float64"
      ]
     },
     "execution_count": 323,
     "metadata": {},
     "output_type": "execute_result"
    }
   ],
   "source": [
    "transport_odwiedziny = df[['4.odwiedziny u znajomych/rodziny_samochód (jako kierowca)', '4.odwiedziny u znajomych/rodziny_wyłącznie pieszo', '4.odwiedziny u znajomych/rodziny_rower', '4.odwiedziny u znajomych/rodziny_transport publiczny','4.odwiedziny u znajomych/rodziny_samochód (jako pasażer)', '4.odwiedziny u znajomych/rodziny_inne/więcej niż 1 środek transportu']]\n",
    "\n",
    "for i in range(transport_odwiedziny.shape[0]):\n",
    "    if (pd.to_numeric(transport_odwiedziny['4.odwiedziny u znajomych/rodziny_samochód (jako kierowca)'], errors='coerce').astype(float)[i] == 0) and \\\n",
    "       (pd.to_numeric(transport_odwiedziny['4.odwiedziny u znajomych/rodziny_wyłącznie pieszo'], errors='coerce').astype(float)[i] == 0) and \\\n",
    "       (pd.to_numeric(transport_odwiedziny['4.odwiedziny u znajomych/rodziny_rower'], errors='coerce').astype(float)[i] == 0) and \\\n",
    "       (pd.to_numeric(transport_odwiedziny['4.odwiedziny u znajomych/rodziny_transport publiczny'], errors='coerce').astype(float)[i] == 0) and \\\n",
    "       (pd.to_numeric(transport_odwiedziny['4.odwiedziny u znajomych/rodziny_samochód (jako pasażer)'], errors='coerce').astype(float)[i] == 0) and \\\n",
    "       (pd.to_numeric(transport_odwiedziny['4.odwiedziny u znajomych/rodziny_inne/więcej niż 1 środek transportu'], errors='coerce').astype(float)[i] == 0):\n",
    "        transport_odwiedziny.loc[i, '4.odwiedziny u znajomych/rodziny_brak odpowiedzi'] = 1\n",
    "    else:\n",
    "        transport_odwiedziny.loc[i, '4.odwiedziny u znajomych/rodziny_brak odpowiedzi'] = 0\n",
    "decoded_odwiedziny = transport_odwiedziny.idxmax(axis=1).astype('category')\n",
    "df = pd.concat([df, decoded_odwiedziny], axis=1)\n",
    "df = df.rename(columns={0: 'transport_odwiedziny'})\n",
    "df['transport_odwiedziny'].value_counts(normalize=True).mul(100).round(2)"
   ]
  },
  {
   "cell_type": "code",
   "execution_count": null,
   "metadata": {
    "colab": {
     "base_uri": "https://localhost:8080/"
    },
    "id": "Fnd_X8j9t3Up",
    "outputId": "c08fdf18-e43a-4689-dbf9-80d7d1b4a9d7"
   },
   "outputs": [
    {
     "name": "stderr",
     "output_type": "stream",
     "text": [
      "<ipython-input-324-40e0f97e7142>:12: SettingWithCopyWarning: \n",
      "A value is trying to be set on a copy of a slice from a DataFrame.\n",
      "Try using .loc[row_indexer,col_indexer] = value instead\n",
      "\n",
      "See the caveats in the documentation: https://pandas.pydata.org/pandas-docs/stable/user_guide/indexing.html#returning-a-view-versus-a-copy\n",
      "  transport_kosciol.loc[i, '4.kościół_brak odpowiedzi'] = 0\n"
     ]
    },
    {
     "data": {
      "text/plain": [
       "4.kościół_brak odpowiedzi                        46.6\n",
       "4.kościół_wyłącznie pieszo                       30.0\n",
       "4.kościół_samochód (jako kierowca)               14.4\n",
       "4.kościół_samochód (jako pasażer)                 6.4\n",
       "4.kościół_rower                                   2.2\n",
       "4.kościół_inne/więcej niż 1 środek transportu     0.4\n",
       "Name: transport_kosciol, dtype: float64"
      ]
     },
     "execution_count": 324,
     "metadata": {},
     "output_type": "execute_result"
    }
   ],
   "source": [
    "transport_kosciol = df[['4.kościół_samochód (jako kierowca)', '4.kościół_wyłącznie pieszo', '4.kościół_rower', '4.kościół_transport publiczny','4.kościół_samochód (jako pasażer)', '4.kościół_inne/więcej niż 1 środek transportu']]\n",
    "\n",
    "for i in range(transport_kosciol.shape[0]):\n",
    "    if (pd.to_numeric(transport_kosciol['4.kościół_samochód (jako kierowca)'], errors='coerce').astype(float)[i] == 0) and \\\n",
    "       (pd.to_numeric(transport_kosciol['4.kościół_wyłącznie pieszo'], errors='coerce').astype(float)[i] == 0) and \\\n",
    "       (pd.to_numeric(transport_kosciol['4.kościół_rower'], errors='coerce').astype(float)[i] == 0) and \\\n",
    "       (pd.to_numeric(transport_kosciol['4.kościół_transport publiczny'], errors='coerce').astype(float)[i] == 0) and \\\n",
    "       (pd.to_numeric(transport_kosciol['4.kościół_samochód (jako pasażer)'], errors='coerce').astype(float)[i] == 0) and \\\n",
    "       (pd.to_numeric(transport_kosciol['4.kościół_inne/więcej niż 1 środek transportu'], errors='coerce').astype(float)[i] == 0):\n",
    "        transport_kosciol.loc[i, '4.kościół_brak odpowiedzi'] = 1\n",
    "    else:\n",
    "        transport_kosciol.loc[i, '4.kościół_brak odpowiedzi'] = 0\n",
    "decoded_kosciol = transport_kosciol.idxmax(axis=1).astype('category')\n",
    "df = pd.concat([df, decoded_kosciol], axis=1)\n",
    "df = df.rename(columns={0: 'transport_kosciol'})\n",
    "df['transport_kosciol'].value_counts(normalize=True).mul(100).round(2)"
   ]
  },
  {
   "cell_type": "code",
   "execution_count": null,
   "metadata": {
    "colab": {
     "base_uri": "https://localhost:8080/"
    },
    "id": "3QTa4w57uMpV",
    "outputId": "32957ba7-1fc0-4e74-ba0e-5c48c73c5ca3"
   },
   "outputs": [
    {
     "name": "stderr",
     "output_type": "stream",
     "text": [
      "<ipython-input-325-1584bbc7f406>:10: SettingWithCopyWarning: \n",
      "A value is trying to be set on a copy of a slice from a DataFrame.\n",
      "Try using .loc[row_indexer,col_indexer] = value instead\n",
      "\n",
      "See the caveats in the documentation: https://pandas.pydata.org/pandas-docs/stable/user_guide/indexing.html#returning-a-view-versus-a-copy\n",
      "  transport_praca.loc[i, '4.praca_brak odpowiedzi'] = 1\n"
     ]
    },
    {
     "data": {
      "text/plain": [
       "4.praca_brak odpowiedzi                        77.0\n",
       "4.praca_samochód (jako kierowca)               13.2\n",
       "4.praca_wyłącznie pieszo                        5.0\n",
       "4.praca_inne/więcej niż 1 środek transportu     1.4\n",
       "4.praca_samochód (jako pasażer)                 1.4\n",
       "4.praca_rower                                   1.0\n",
       "4.praca_transport publiczny                     1.0\n",
       "Name: transport_praca, dtype: float64"
      ]
     },
     "execution_count": 325,
     "metadata": {},
     "output_type": "execute_result"
    }
   ],
   "source": [
    "transport_praca = df[['4.praca_samochód (jako kierowca)', '4.praca_wyłącznie pieszo', '4.praca_rower', '4.praca_transport publiczny','4.praca_samochód (jako pasażer)', '4.praca_inne/więcej niż 1 środek transportu']]\n",
    "\n",
    "for i in range(transport_praca.shape[0]):\n",
    "    if (pd.to_numeric(transport_praca['4.praca_samochód (jako kierowca)'], errors='coerce').astype(float)[i] == 0) and \\\n",
    "       (pd.to_numeric(transport_praca['4.praca_wyłącznie pieszo'], errors='coerce').astype(float)[i] == 0) and \\\n",
    "       (pd.to_numeric(transport_praca['4.praca_rower'], errors='coerce').astype(float)[i] == 0) and \\\n",
    "       (pd.to_numeric(transport_praca['4.praca_transport publiczny'], errors='coerce').astype(float)[i] == 0) and \\\n",
    "       (pd.to_numeric(transport_praca['4.praca_samochód (jako pasażer)'], errors='coerce').astype(float)[i] == 0) and \\\n",
    "       (pd.to_numeric(transport_praca['4.praca_inne/więcej niż 1 środek transportu'], errors='coerce').astype(float)[i] == 0):\n",
    "        transport_praca.loc[i, '4.praca_brak odpowiedzi'] = 1\n",
    "    else:\n",
    "        transport_praca.loc[i, '4.praca_brak odpowiedzi'] = 0\n",
    "decoded_praca = transport_praca.idxmax(axis=1).astype('category')\n",
    "df = pd.concat([df, decoded_praca], axis=1)\n",
    "df = df.rename(columns={0: 'transport_praca'})\n",
    "df['transport_praca'].value_counts(normalize=True).mul(100).round(2)"
   ]
  },
  {
   "cell_type": "code",
   "execution_count": null,
   "metadata": {
    "colab": {
     "base_uri": "https://localhost:8080/"
    },
    "id": "vZv6DaInuouS",
    "outputId": "c8aa47a2-9f22-420c-94c1-8c21fdcf3a5c"
   },
   "outputs": [
    {
     "name": "stderr",
     "output_type": "stream",
     "text": [
      "<ipython-input-326-b51ad8f86614>:10: SettingWithCopyWarning: \n",
      "A value is trying to be set on a copy of a slice from a DataFrame.\n",
      "Try using .loc[row_indexer,col_indexer] = value instead\n",
      "\n",
      "See the caveats in the documentation: https://pandas.pydata.org/pandas-docs/stable/user_guide/indexing.html#returning-a-view-versus-a-copy\n",
      "  transport_urzad.loc[i, '4.sprawy urzędowe_brak odpowiedzi'] = 1\n"
     ]
    },
    {
     "data": {
      "text/plain": [
       "4.sprawy urzędowe_brak odpowiedzi                        64.0\n",
       "4.sprawy urzędowe_samochód (jako kierowca)               14.8\n",
       "4.sprawy urzędowe_wyłącznie pieszo                       13.2\n",
       "4.sprawy urzędowe_rower                                   4.2\n",
       "4.sprawy urzędowe_samochód (jako pasażer)                 1.8\n",
       "4.sprawy urzędowe_inne/więcej niż 1 środek transportu     1.2\n",
       "4.sprawy urzędowe_transport publiczny                     0.8\n",
       "Name: transport_urzad, dtype: float64"
      ]
     },
     "execution_count": 326,
     "metadata": {},
     "output_type": "execute_result"
    }
   ],
   "source": [
    "transport_urzad = df[['4.sprawy urzędowe_samochód (jako kierowca)', '4.sprawy urzędowe_wyłącznie pieszo', '4.sprawy urzędowe_rower', '4.sprawy urzędowe_transport publiczny','4.sprawy urzędowe_samochód (jako pasażer)', '4.sprawy urzędowe_inne/więcej niż 1 środek transportu']]\n",
    "\n",
    "for i in range(transport_urzad.shape[0]):\n",
    "    if (pd.to_numeric(transport_urzad['4.sprawy urzędowe_samochód (jako kierowca)'], errors='coerce').astype(float)[i] == 0) and \\\n",
    "       (pd.to_numeric(transport_urzad['4.sprawy urzędowe_wyłącznie pieszo'], errors='coerce').astype(float)[i] == 0) and \\\n",
    "       (pd.to_numeric(transport_urzad['4.sprawy urzędowe_rower'], errors='coerce').astype(float)[i] == 0) and \\\n",
    "       (pd.to_numeric(transport_urzad['4.sprawy urzędowe_transport publiczny'], errors='coerce').astype(float)[i] == 0) and \\\n",
    "       (pd.to_numeric(transport_urzad['4.sprawy urzędowe_samochód (jako pasażer)'], errors='coerce').astype(float)[i] == 0) and \\\n",
    "       (pd.to_numeric(transport_urzad['4.sprawy urzędowe_inne/więcej niż 1 środek transportu'], errors='coerce').astype(float)[i] == 0):\n",
    "        transport_urzad.loc[i, '4.sprawy urzędowe_brak odpowiedzi'] = 1\n",
    "    else:\n",
    "        transport_urzad.loc[i, '4.sprawy urzędowe_brak odpowiedzi'] = 0\n",
    "decoded_urzad = transport_urzad.idxmax(axis=1).astype('category')\n",
    "df = pd.concat([df, decoded_urzad], axis=1)\n",
    "df = df.rename(columns={0: 'transport_urzad'})\n",
    "df['transport_urzad'].value_counts(normalize=True).mul(100).round(2)"
   ]
  },
  {
   "cell_type": "code",
   "execution_count": null,
   "metadata": {
    "colab": {
     "base_uri": "https://localhost:8080/"
    },
    "id": "eYI-oUZt-jJG",
    "outputId": "e9737a1e-f40d-4cfb-9c6c-f96ed8b7a788"
   },
   "outputs": [
    {
     "name": "stderr",
     "output_type": "stream",
     "text": [
      "<ipython-input-327-955879471a5e>:10: SettingWithCopyWarning: \n",
      "A value is trying to be set on a copy of a slice from a DataFrame.\n",
      "Try using .loc[row_indexer,col_indexer] = value instead\n",
      "\n",
      "See the caveats in the documentation: https://pandas.pydata.org/pandas-docs/stable/user_guide/indexing.html#returning-a-view-versus-a-copy\n",
      "  transport_lekarz.loc[i, '4.lekarz_brak odpowiedzi'] = 1\n"
     ]
    },
    {
     "data": {
      "text/plain": [
       "4.lekarz_brak odpowiedzi                        45.0\n",
       "4.lekarz_wyłącznie pieszo                       19.4\n",
       "4.lekarz_samochód (jako kierowca)               18.4\n",
       "4.lekarz_samochód (jako pasażer)                10.0\n",
       "4.lekarz_rower                                   4.0\n",
       "4.lekarz_transport publiczny                     2.2\n",
       "4.lekarz_inne/więcej niż 1 środek transportu     1.0\n",
       "Name: transport_lekarz, dtype: float64"
      ]
     },
     "execution_count": 327,
     "metadata": {},
     "output_type": "execute_result"
    }
   ],
   "source": [
    "transport_lekarz = df[['4.lekarz_samochód (jako kierowca)', '4.lekarz_wyłącznie pieszo', '4.lekarz_rower', '4.lekarz_transport publiczny','4.lekarz_samochód (jako pasażer)', '4.lekarz_inne/więcej niż 1 środek transportu']]\n",
    "\n",
    "for i in range(transport_lekarz.shape[0]):\n",
    "    if (pd.to_numeric(transport_lekarz['4.lekarz_samochód (jako kierowca)'], errors='coerce').astype(float)[i] == 0) and \\\n",
    "       (pd.to_numeric(transport_lekarz['4.lekarz_wyłącznie pieszo'], errors='coerce').astype(float)[i] == 0) and \\\n",
    "       (pd.to_numeric(transport_lekarz['4.lekarz_rower'], errors='coerce').astype(float)[i] == 0) and \\\n",
    "       (pd.to_numeric(transport_lekarz['4.lekarz_transport publiczny'], errors='coerce').astype(float)[i] == 0) and \\\n",
    "       (pd.to_numeric(transport_lekarz['4.lekarz_samochód (jako pasażer)'], errors='coerce').astype(float)[i] == 0) and \\\n",
    "       (pd.to_numeric(transport_lekarz['4.lekarz_inne/więcej niż 1 środek transportu'], errors='coerce').astype(float)[i] == 0):\n",
    "        transport_lekarz.loc[i, '4.lekarz_brak odpowiedzi'] = 1\n",
    "    else:\n",
    "        transport_lekarz.loc[i, '4.lekarz_brak odpowiedzi'] = 0\n",
    "decoded_lekarz = transport_lekarz.idxmax(axis=1).astype('category')\n",
    "df = pd.concat([df, decoded_lekarz], axis=1)\n",
    "df = df.rename(columns={0: 'transport_lekarz'})\n",
    "df['transport_lekarz'].value_counts(normalize=True).mul(100).round(2)"
   ]
  },
  {
   "cell_type": "code",
   "execution_count": null,
   "metadata": {
    "colab": {
     "base_uri": "https://localhost:8080/"
    },
    "id": "5fFCnqwt_Own",
    "outputId": "d4acc268-13e8-4b1a-bd41-8e0c0b80ac4d"
   },
   "outputs": [
    {
     "name": "stderr",
     "output_type": "stream",
     "text": [
      "<ipython-input-328-2ebd21cdad50>:10: SettingWithCopyWarning: \n",
      "A value is trying to be set on a copy of a slice from a DataFrame.\n",
      "Try using .loc[row_indexer,col_indexer] = value instead\n",
      "\n",
      "See the caveats in the documentation: https://pandas.pydata.org/pandas-docs/stable/user_guide/indexing.html#returning-a-view-versus-a-copy\n",
      "  transport_rozrywka.loc[i, '4.rozrywka, kultura_brak odpowiedzi'] = 1\n"
     ]
    },
    {
     "data": {
      "text/plain": [
       "4.rozrywka, kultura_brak odpowiedzi                        73.8\n",
       "4.rozrywka, kultura_samochód (jako kierowca)               11.6\n",
       "4.rozrywka, kultura_samochód (jako pasażer)                 5.2\n",
       "4.rozrywka, kultura_wyłącznie pieszo                        4.8\n",
       "4.rozrywka, kultura_transport publiczny                     2.6\n",
       "4.rozrywka, kultura_inne/więcej niż 1 środek transportu     1.6\n",
       "4.rozrywka, kultura_rower                                   0.4\n",
       "Name: transport_rozrywka, dtype: float64"
      ]
     },
     "execution_count": 328,
     "metadata": {},
     "output_type": "execute_result"
    }
   ],
   "source": [
    "transport_rozrywka = df[['4.rozrywka, kultura_samochód (jako kierowca)', '4.rozrywka, kultura_wyłącznie pieszo', '4.rozrywka, kultura_rower', '4.rozrywka, kultura_transport publiczny','4.rozrywka, kultura_samochód (jako pasażer)', '4.rozrywka, kultura_inne/więcej niż 1 środek transportu']]\n",
    "\n",
    "for i in range(transport_rozrywka.shape[0]):\n",
    "    if (pd.to_numeric(transport_rozrywka['4.rozrywka, kultura_samochód (jako kierowca)'], errors='coerce').astype(float)[i] == 0) and \\\n",
    "       (pd.to_numeric(transport_rozrywka['4.rozrywka, kultura_wyłącznie pieszo'], errors='coerce').astype(float)[i] == 0) and \\\n",
    "       (pd.to_numeric(transport_rozrywka['4.rozrywka, kultura_rower'], errors='coerce').astype(float)[i] == 0) and \\\n",
    "       (pd.to_numeric(transport_rozrywka['4.rozrywka, kultura_transport publiczny'], errors='coerce').astype(float)[i] == 0) and \\\n",
    "       (pd.to_numeric(transport_rozrywka['4.rozrywka, kultura_samochód (jako pasażer)'], errors='coerce').astype(float)[i] == 0) and \\\n",
    "       (pd.to_numeric(transport_rozrywka['4.rozrywka, kultura_inne/więcej niż 1 środek transportu'], errors='coerce').astype(float)[i] == 0):\n",
    "        transport_rozrywka.loc[i, '4.rozrywka, kultura_brak odpowiedzi'] = 1\n",
    "    else:\n",
    "        transport_rozrywka.loc[i, '4.rozrywka, kultura_brak odpowiedzi'] = 0\n",
    "decoded_rozrywka = transport_rozrywka.idxmax(axis=1).astype('category')\n",
    "df = pd.concat([df, decoded_rozrywka], axis=1)\n",
    "df = df.rename(columns={0: 'transport_rozrywka'})\n",
    "df['transport_rozrywka'].value_counts(normalize=True).mul(100).round(2)"
   ]
  },
  {
   "cell_type": "markdown",
   "metadata": {
    "id": "hhpDvitJxyY1"
   },
   "source": [
    "Wybieramy te pytania, gdzie odpowiedź 'brak odpowiedzi' stanowi mniej niż 70%. Resztę pytań łączymy do jednej tabeli i wyświetlamy średnią z każdej odpowiedzi w każdym klastrze. Pomijamy brak odpowiedzi."
   ]
  },
  {
   "cell_type": "code",
   "execution_count": null,
   "metadata": {
    "colab": {
     "base_uri": "https://localhost:8080/"
    },
    "id": "4Yui7DZawEFT",
    "outputId": "e030ab0e-ba9b-4c82-8eef-b4cad6ea5b71"
   },
   "outputs": [
    {
     "data": {
      "text/plain": [
       "Cluster  Odpowiedź_transport                \n",
       "0        wyłącznie pieszo                       44.89\n",
       "         samochód (jako kierowca)               32.91\n",
       "         samochód (jako pasażer)                10.06\n",
       "         rower                                   7.99\n",
       "         transport publiczny                     2.88\n",
       "         inne/więcej niż 1 środek transportu     1.28\n",
       "1        wyłącznie pieszo                       40.53\n",
       "         samochód (jako kierowca)               40.35\n",
       "         samochód (jako pasażer)                10.44\n",
       "         rower                                   4.96\n",
       "         transport publiczny                     2.30\n",
       "         inne/więcej niż 1 środek transportu     1.42\n",
       "2        wyłącznie pieszo                       39.96\n",
       "         samochód (jako kierowca)               29.03\n",
       "         samochód (jako pasażer)                13.80\n",
       "         rower                                  11.47\n",
       "         inne/więcej niż 1 środek transportu     3.58\n",
       "         transport publiczny                     2.15\n",
       "Name: Odpowiedź_transport, dtype: float64"
      ]
     },
     "execution_count": 331,
     "metadata": {},
     "output_type": "execute_result"
    }
   ],
   "source": [
    "df_pyt4 = df.melt(id_vars=['Cluster'], value_vars=[\n",
    "    'transport_lekarz',\n",
    "    'transport_kosciol',\n",
    "    'transport_odwiedziny',\n",
    "    'transport_zakupy',\n",
    "    'transport_fryzjer',\n",
    "    'transport_urzad'\n",
    "    ], var_name='Kolumna', value_name='Odpowiedź')\n",
    "df_pyt4['Odpowiedź_transport'] = df_pyt4['Odpowiedź'].str.split('_').str[1]\n",
    "df_pyt4 = df_pyt4[df_pyt4['Odpowiedź_transport'] != 'brak odpowiedzi']\n",
    "df_pyt4.groupby('Cluster')['Odpowiedź_transport'].value_counts(normalize=True).mul(100).round(2)"
   ]
  },
  {
   "cell_type": "code",
   "execution_count": null,
   "metadata": {
    "colab": {
     "base_uri": "https://localhost:8080/"
    },
    "id": "tvLDFfMc_15s",
    "outputId": "f83626d0-c752-464d-b518-8849e12e5d67"
   },
   "outputs": [
    {
     "name": "stderr",
     "output_type": "stream",
     "text": [
      "<ipython-input-330-b05b3e297d52>:9: SettingWithCopyWarning: \n",
      "A value is trying to be set on a copy of a slice from a DataFrame.\n",
      "Try using .loc[row_indexer,col_indexer] = value instead\n",
      "\n",
      "See the caveats in the documentation: https://pandas.pydata.org/pandas-docs/stable/user_guide/indexing.html#returning-a-view-versus-a-copy\n",
      "  transport.loc[i, '11.brak odpowiedzi'] = 0\n"
     ]
    },
    {
     "data": {
      "text/plain": [
       "Cluster  Jaki jest powód niewykorzystywania przez Pana/Panią transportu publicznego\n",
       "0        11.Indywidualny transport                                                     44.83\n",
       "         11.Inne                                                                       26.44\n",
       "         11.brak odpowiedzi                                                            14.94\n",
       "         11.Niedostosowana oferta przewoźników                                         13.79\n",
       "1        11.Indywidualny transport                                                     49.08\n",
       "         11.Inne                                                                       25.15\n",
       "         11.Niedostosowana oferta przewoźników                                         13.50\n",
       "         11.brak odpowiedzi                                                            12.27\n",
       "2        11.Indywidualny transport                                                     39.26\n",
       "         11.Inne                                                                       30.06\n",
       "         11.Niedostosowana oferta przewoźników                                         18.40\n",
       "         11.brak odpowiedzi                                                            12.27\n",
       "Name: Jaki jest powód niewykorzystywania przez Pana/Panią transportu publicznego, dtype: float64"
      ]
     },
     "execution_count": 330,
     "metadata": {},
     "output_type": "execute_result"
    }
   ],
   "source": [
    "transport = df[['11.Indywidualny transport', '11.Niedostosowana oferta przewoźników', '11.Inne']]\n",
    "\n",
    "for i in range(transport.shape[0]):\n",
    "    if (pd.to_numeric(transport['11.Indywidualny transport'], errors='coerce').astype(float)[i] == 0) and \\\n",
    "       (pd.to_numeric(transport['11.Niedostosowana oferta przewoźników'], errors='coerce').astype(float)[i] == 0) and \\\n",
    "       (pd.to_numeric(transport['11.Inne'], errors='coerce').astype(float)[i] == 0):\n",
    "        transport.loc[i, '11.brak odpowiedzi'] = 1\n",
    "    else:\n",
    "        transport.loc[i, '11.brak odpowiedzi'] = 0\n",
    "decoded = transport.idxmax(axis=1).astype('category')\n",
    "df = pd.concat([df, decoded], axis=1)\n",
    "df = df.rename(columns={0: 'Jaki jest powód niewykorzystywania przez Pana/Panią transportu publicznego'})\n",
    "df.groupby('Cluster')['Jaki jest powód niewykorzystywania przez Pana/Panią transportu publicznego'].value_counts(normalize=True).mul(100).round(2)"
   ]
  }
 ],
 "metadata": {
  "colab": {
   "provenance": []
  },
  "kernelspec": {
   "display_name": "Python 3",
   "language": "python",
   "name": "python3"
  },
  "language_info": {
   "codemirror_mode": {
    "name": "ipython",
    "version": 3
   },
   "file_extension": ".py",
   "mimetype": "text/x-python",
   "name": "python",
   "nbconvert_exporter": "python",
   "pygments_lexer": "ipython3",
   "version": "3.8.5"
  }
 },
 "nbformat": 4,
 "nbformat_minor": 1
}
